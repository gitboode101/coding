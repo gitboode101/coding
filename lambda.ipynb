{
 "cells": [
  {
   "cell_type": "code",
   "execution_count": 1,
   "id": "dfac2679",
   "metadata": {},
   "outputs": [
    {
     "data": {
      "text/plain": [
       "7"
      ]
     },
     "execution_count": 1,
     "metadata": {},
     "output_type": "execute_result"
    }
   ],
   "source": [
    "add = lambda x,y : x+y \n",
    "add(3,4)"
   ]
  },
  {
   "cell_type": "code",
   "execution_count": 17,
   "id": "b00da3a1",
   "metadata": {},
   "outputs": [
    {
     "data": {
      "text/plain": [
       "35"
      ]
     },
     "execution_count": 17,
     "metadata": {},
     "output_type": "execute_result"
    }
   ],
   "source": [
    "\n",
    "mult = lambda x: x*7\n",
    "mult(5)\n"
   ]
  },
  {
   "cell_type": "code",
   "execution_count": 7,
   "id": "50d618b3",
   "metadata": {},
   "outputs": [
    {
     "data": {
      "text/plain": [
       "'olleH'"
      ]
     },
     "execution_count": 7,
     "metadata": {},
     "output_type": "execute_result"
    }
   ],
   "source": [
    "reverse_string = lambda x : x[::-1]\n",
    "reverse_string('Hello')"
   ]
  },
  {
   "cell_type": "code",
   "execution_count": 10,
   "id": "c8c73621",
   "metadata": {},
   "outputs": [
    {
     "data": {
      "text/plain": [
       "True"
      ]
     },
     "execution_count": 10,
     "metadata": {},
     "output_type": "execute_result"
    }
   ],
   "source": [
    "is_even = lambda x: x%2==0 \n",
    "is_even(4)"
   ]
  },
  {
   "cell_type": "code",
   "execution_count": 11,
   "id": "72095b66",
   "metadata": {},
   "outputs": [
    {
     "data": {
      "text/plain": [
       "'ARAB'"
      ]
     },
     "execution_count": 11,
     "metadata": {},
     "output_type": "execute_result"
    }
   ],
   "source": [
    "upper_case = lambda x :x.upper()\n",
    "upper_case('arab')"
   ]
  },
  {
   "cell_type": "code",
   "execution_count": 13,
   "id": "58b2e8ed",
   "metadata": {},
   "outputs": [
    {
     "data": {
      "text/plain": [
       "'b'"
      ]
     },
     "execution_count": 13,
     "metadata": {},
     "output_type": "execute_result"
    }
   ],
   "source": [
    "last_index = lambda x:x[-1]\n",
    "last_index('arab')"
   ]
  },
  {
   "cell_type": "code",
   "execution_count": 16,
   "id": "242f24f4",
   "metadata": {},
   "outputs": [
    {
     "name": "stdout",
     "output_type": "stream",
     "text": [
      "is even: 2\n",
      "is odd: 3\n"
     ]
    }
   ],
   "source": [
    "is_even_or_odd = lambda x: f'is even: {x}' if x%2==0 else f'is odd: {x}'\n",
    "print(is_even_or_odd(2))\n",
    "print(is_even_or_odd(3))"
   ]
  },
  {
   "cell_type": "code",
   "execution_count": 20,
   "id": "1ec9311d",
   "metadata": {},
   "outputs": [
    {
     "name": "stdout",
     "output_type": "stream",
     "text": [
      "bigger as 0 4\n",
      "smaler as 0 -3\n"
     ]
    }
   ],
   "source": [
    "check_sign = lambda x: f'bigger as 0 {x}' if x>0 else f'smaler as 0 {x}'\n",
    "print(check_sign(4))\n",
    "print(check_sign(-3))"
   ]
  },
  {
   "cell_type": "code",
   "execution_count": 21,
   "id": "42c97652",
   "metadata": {},
   "outputs": [
    {
     "name": "stdout",
     "output_type": "stream",
     "text": [
      "True this 44 in range\n",
      "this num 3 out of range\n"
     ]
    }
   ],
   "source": [
    "in_range =lambda x: f'True this {x} in range'if x>=10 and x<=50 else  f'this num {x} out of range'\n",
    "print(in_range(44))\n",
    "print(in_range(3))"
   ]
  },
  {
   "cell_type": "code",
   "execution_count": 34,
   "id": "7c44a117",
   "metadata": {},
   "outputs": [
    {
     "name": "stdout",
     "output_type": "stream",
     "text": [
      "The name \"abdullah\" has more than 5 characters.\n",
      "The name \"mam\" has 5 or fewer characters.\n"
     ]
    }
   ],
   "source": [
    "len_name = lambda x: f'The name \"{x}\" has more than 5 characters.' if len(x) > 5 else f'The name \"{x}\" has 5 or fewer characters.'\n",
    "\n",
    "print(len_name('abdullah'))\n",
    "print(len_name('mam'))\n"
   ]
  },
  {
   "cell_type": "code",
   "execution_count": 35,
   "id": "e38db144",
   "metadata": {},
   "outputs": [
    {
     "name": "stdout",
     "output_type": "stream",
     "text": [
      "Uppercase\n",
      "Lowercase\n"
     ]
    }
   ],
   "source": [
    "char_case = lambda c: \"Uppercase\" if c.isupper() else \"Lowercase\"\n",
    "\n",
    "print(char_case('A'))\n",
    "print(char_case('a'))"
   ]
  },
  {
   "cell_type": "code",
   "execution_count": 36,
   "id": "79df00e4",
   "metadata": {},
   "outputs": [
    {
     "name": "stdout",
     "output_type": "stream",
     "text": [
      "The number -10 is even and negative.\n",
      "The number 5 is odd and positive.\n",
      "The number -5 is odd and negative.\n",
      "The number 2 is even and positive.\n"
     ]
    }
   ],
   "source": [
    "describe = lambda x: (\n",
    "    f\"The number {x} is even and positive.\" if x % 2 == 0 and x > 0 else\n",
    "    f\"The number {x} is even and negative.\" if x % 2 == 0 and x < 0 else\n",
    "    f\"The number {x} is odd and positive.\" if x % 2 != 0 and x > 0 else\n",
    "    f\"The number {x} is odd and negative.\"\n",
    ")\n",
    "\n",
    "print(describe(-10))\n",
    "print(describe(5))\n",
    "print(describe(-5))\n",
    "print(describe(2))"
   ]
  },
  {
   "cell_type": "code",
   "execution_count": 37,
   "id": "b1cdcbc5",
   "metadata": {},
   "outputs": [
    {
     "data": {
      "text/plain": [
       "['ALI', 'MONA', 'TARIQ']"
      ]
     },
     "execution_count": 37,
     "metadata": {},
     "output_type": "execute_result"
    }
   ],
   "source": [
    "words = [\"ali\", \"mona\", \"tariq\"]\n",
    "uppercased = list(map(lambda word: word.upper(),words))\n",
    "uppercased"
   ]
  },
  {
   "cell_type": "code",
   "execution_count": 38,
   "id": "d347fc31",
   "metadata": {},
   "outputs": [
    {
     "data": {
      "text/plain": [
       "[3, 4, 5]"
      ]
     },
     "execution_count": 38,
     "metadata": {},
     "output_type": "execute_result"
    }
   ],
   "source": [
    "lenghts = list(map(lambda len_word: len(len_word),words))\n",
    "lenghts"
   ]
  },
  {
   "cell_type": "code",
   "execution_count": 39,
   "id": "6dd35d27",
   "metadata": {},
   "outputs": [
    {
     "data": {
      "text/plain": [
       "[5, 7, 9]"
      ]
     },
     "execution_count": 39,
     "metadata": {},
     "output_type": "execute_result"
    }
   ],
   "source": [
    "a = [1, 2, 3]\n",
    "b = [4, 5, 6]\n",
    "sum_list_numbres= list(map(lambda x,y :x+y,a,b))\n",
    "sum_list_numbres"
   ]
  },
  {
   "cell_type": "code",
   "execution_count": 40,
   "id": "6c1b1754",
   "metadata": {},
   "outputs": [
    {
     "data": {
      "text/plain": [
       "[5, 10, 17]"
      ]
     },
     "execution_count": 40,
     "metadata": {},
     "output_type": "execute_result"
    }
   ],
   "source": [
    "num_list = [2, 3, 4]\n",
    "fun_squer = list(map(lambda x:(x**2)+1,num_list))\n",
    "fun_squer"
   ]
  },
  {
   "cell_type": "code",
   "execution_count": 43,
   "id": "35ab01b1",
   "metadata": {},
   "outputs": [
    {
     "data": {
      "text/plain": [
       "['!HELLO', '!WORLD']"
      ]
     },
     "execution_count": 43,
     "metadata": {},
     "output_type": "execute_result"
    }
   ],
   "source": [
    "string_list = [\"hello\", \"world\"]\n",
    "merged = list(map(lambda merg: '!'+merg.upper(),string_list))\n",
    "merged"
   ]
  },
  {
   "cell_type": "code",
   "execution_count": 44,
   "id": "834736df",
   "metadata": {},
   "outputs": [
    {
     "data": {
      "text/plain": [
       "['ALi is 30 years old', 'sara is 25 years old']"
      ]
     },
     "execution_count": 44,
     "metadata": {},
     "output_type": "execute_result"
    }
   ],
   "source": [
    "name_list = [\"ALi\",\"sara\"]\n",
    "age_list = [30,25]\n",
    "merged_name_age = list(map(lambda name,age:f'{name} is {age} years old' ,name_list,age_list))\n",
    "merged_name_age"
   ]
  },
  {
   "cell_type": "code",
   "execution_count": 46,
   "id": "78557551",
   "metadata": {},
   "outputs": [
    {
     "data": {
      "text/plain": [
       "[2, 4, 6]"
      ]
     },
     "execution_count": 46,
     "metadata": {},
     "output_type": "execute_result"
    }
   ],
   "source": [
    "numbers = [1, 2, 3, 4, 5, 6]\n",
    "even_numbers = list(filter(lambda x: x %2==0 ,numbers))\n",
    "even_numbers"
   ]
  },
  {
   "cell_type": "code",
   "execution_count": 47,
   "id": "0f2eca81",
   "metadata": {},
   "outputs": [
    {
     "data": {
      "text/plain": [
       "[1, 2]"
      ]
     },
     "execution_count": 47,
     "metadata": {},
     "output_type": "execute_result"
    }
   ],
   "source": [
    "values = [1,None,2,None]\n",
    "cleand = list(filter(lambda x: x is not None ,values))\n",
    "cleand"
   ]
  },
  {
   "cell_type": "code",
   "execution_count": 52,
   "id": "e06d7523",
   "metadata": {},
   "outputs": [
    {
     "data": {
      "text/plain": [
       "['hello', 'world']"
      ]
     },
     "execution_count": 52,
     "metadata": {},
     "output_type": "execute_result"
    }
   ],
   "source": [
    "texet = [\"hello\", \"\", \" \", \"world\",\"\"]\n",
    "clear_space = list(filter(lambda x: x.strip(\" \"),texet))\n",
    "clear_space"
   ]
  },
  {
   "cell_type": "code",
   "execution_count": 56,
   "id": "7c76dd9e",
   "metadata": {},
   "outputs": [
    {
     "data": {
      "text/plain": [
       "['Ali', 'ahmad']"
      ]
     },
     "execution_count": 56,
     "metadata": {},
     "output_type": "execute_result"
    }
   ],
   "source": [
    "names = [\"Ali\", \"Sara\", \"ahmad\", \"Ziad\"]\n",
    "check_char_name = list(filter(lambda x:x.lower().startswith(\"a\"),names ))\n",
    "check_char_name"
   ]
  },
  {
   "cell_type": "code",
   "execution_count": 57,
   "id": "6dd354a8",
   "metadata": {},
   "outputs": [
    {
     "data": {
      "text/plain": [
       "[1, 3, 5]"
      ]
     },
     "execution_count": 57,
     "metadata": {},
     "output_type": "execute_result"
    }
   ],
   "source": [
    "num_list = [0, 1, 2, 3, 4, 5, 6]\n",
    "chek_num = list(filter(lambda num :num%2 !=0 ,num_list ))\n",
    "chek_num"
   ]
  },
  {
   "cell_type": "code",
   "execution_count": 71,
   "id": "e9c15709",
   "metadata": {},
   "outputs": [
    {
     "data": {
      "text/plain": [
       "['Ahmed', 'Mona']"
      ]
     },
     "execution_count": 71,
     "metadata": {},
     "output_type": "execute_result"
    }
   ],
   "source": [
    "names = [\"Ahmed\", \"\", \"Mona\", \" \", \"\"]\n",
    "chek_names = list(filter(lambda name :name.replace(\" \",\"\").strip(),names))\n",
    "chek_names"
   ]
  },
  {
   "cell_type": "code",
   "execution_count": 72,
   "id": "57382c5e",
   "metadata": {},
   "outputs": [
    {
     "data": {
      "text/plain": [
       "[4, 5, 6]"
      ]
     },
     "execution_count": 72,
     "metadata": {},
     "output_type": "execute_result"
    }
   ],
   "source": [
    "num_list = [1, 2, 3, 4, 5, 6]\n",
    "chek_num = list(filter(lambda x: x>3 ,num_list))\n",
    "chek_num"
   ]
  },
  {
   "cell_type": "code",
   "execution_count": 70,
   "id": "193c8761",
   "metadata": {},
   "outputs": [
    {
     "data": {
      "text/plain": [
       "[True, True]"
      ]
     },
     "execution_count": 70,
     "metadata": {},
     "output_type": "execute_result"
    }
   ],
   "source": [
    "booling = [True,False,True,None]\n",
    "check_bool = list(filter(lambda x: x is True ,booling))\n",
    "check_bool "
   ]
  },
  {
   "cell_type": "code",
   "execution_count": 73,
   "id": "c7bf4695",
   "metadata": {},
   "outputs": [
    {
     "data": {
      "text/plain": [
       "24"
      ]
     },
     "execution_count": 73,
     "metadata": {},
     "output_type": "execute_result"
    }
   ],
   "source": [
    "from functools import reduce \n",
    "\n",
    "\n",
    "numbers = [1,2,3,4]\n",
    "proudct = reduce(lambda x,y :x*y ,numbers)\n",
    "proudct "
   ]
  },
  {
   "cell_type": "code",
   "execution_count": 74,
   "id": "d1350bac",
   "metadata": {},
   "outputs": [
    {
     "data": {
      "text/plain": [
       "60"
      ]
     },
     "execution_count": 74,
     "metadata": {},
     "output_type": "execute_result"
    }
   ],
   "source": [
    "from functools import reduce \n",
    "list_number = [10,20,30]\n",
    "sum_number_list = reduce(lambda x,y :x+y ,list_number)\n",
    "sum_number_list"
   ]
  },
  {
   "cell_type": "code",
   "execution_count": 75,
   "id": "a7a82535",
   "metadata": {},
   "outputs": [
    {
     "data": {
      "text/plain": [
       "12"
      ]
     },
     "execution_count": 75,
     "metadata": {},
     "output_type": "execute_result"
    }
   ],
   "source": [
    "nums = [5, 9, 2, 12]\n",
    "chek_number = reduce(lambda x,y : x if x>y else y,nums)\n",
    "chek_number\n"
   ]
  },
  {
   "cell_type": "code",
   "execution_count": 76,
   "id": "ee4d8098",
   "metadata": {},
   "outputs": [
    {
     "data": {
      "text/plain": [
       "24"
      ]
     },
     "execution_count": 76,
     "metadata": {},
     "output_type": "execute_result"
    }
   ],
   "source": [
    "list_num = [2,3,4]\n",
    "mult_num = reduce(lambda x,y : x*y ,list_num)\n",
    "mult_num"
   ]
  },
  {
   "cell_type": "code",
   "execution_count": 78,
   "id": "025bb3e6",
   "metadata": {},
   "outputs": [
    {
     "data": {
      "text/plain": [
       "40"
      ]
     },
     "execution_count": 78,
     "metadata": {},
     "output_type": "execute_result"
    }
   ],
   "source": [
    "lst_num = [100, 40, 200, 80]\n",
    "chek_n = reduce(lambda x,y : x if x<y else y,lst_num)\n",
    "chek_n "
   ]
  },
  {
   "cell_type": "code",
   "execution_count": 82,
   "id": "252f8140",
   "metadata": {},
   "outputs": [
    {
     "data": {
      "text/plain": [
       "'I love Python'"
      ]
     },
     "execution_count": 82,
     "metadata": {},
     "output_type": "execute_result"
    }
   ],
   "source": [
    "list_itmes =[\"I\", \"love\", \"Python\"]\n",
    "merged = reduce(lambda x,y : x+\" \"+y,list_itmes)\n",
    "merged"
   ]
  },
  {
   "cell_type": "code",
   "execution_count": 85,
   "id": "6963b735",
   "metadata": {},
   "outputs": [
    {
     "data": {
      "text/plain": [
       "0"
      ]
     },
     "execution_count": 85,
     "metadata": {},
     "output_type": "execute_result"
    }
   ],
   "source": [
    "nums = [5, 3, 2]\n",
    "odd = reduce(lambda x,y :x-y,nums)\n",
    "odd"
   ]
  },
  {
   "cell_type": "code",
   "execution_count": null,
   "id": "36eb1283",
   "metadata": {},
   "outputs": [
    {
     "data": {
      "text/plain": [
       "[]"
      ]
     },
     "execution_count": 108,
     "metadata": {},
     "output_type": "execute_result"
    }
   ],
   "source": [
    "users = [\n",
    "    {\"name\": \"Ali\", \"age\": 25},\n",
    "    {\"name\": \"Mona\", \"age\": None},\n",
    "    {\"name\": \"\", \"age\": 30},\n",
    "    {\"name\": \"Ziad\", \"age\": -5},\n",
    "    {\"name\": \"Sara\", \"age\": 22}\n",
    "]\n",
    "def analyze_json(x,index=0,ls=None) :\n",
    "    if ls is None :\n",
    "        ls = []\n",
    "   \n",
    "    if not isinstance(x,list):   \n",
    "        if isinstance(x,dict) :\n",
    "            ls.append(list(filter(lambda items:f'{items[0]} ' items[0] != \"\" and items[1]>1,x.items())))\n",
    "        \n",
    "        return ls  \n",
    "    if index == len(x):\n",
    "        return ls   \n",
    "    items=x[index]\n",
    "    if isinstance(items,list) :\n",
    "        ls.append(analyze_json(items,0,ls))\n",
    "    return analyze_json(x,index+1,ls)                \n",
    "    \n",
    "analyze_json(users)\n",
    "    "
   ]
  },
  {
   "cell_type": "code",
   "execution_count": 118,
   "id": "42660d92",
   "metadata": {},
   "outputs": [
    {
     "data": {
      "text/plain": [
       "[('age', 25)]"
      ]
     },
     "execution_count": 118,
     "metadata": {},
     "output_type": "execute_result"
    }
   ],
   "source": [
    "d ={\"name\": \"Ali\", \"age\": 25}\n",
    "f = list(filter(lambda itmes : itmes[0]!= \"\" and isinstance(itmes[1],int) and itmes[1]>0 ,d.items()))\n",
    "f\n"
   ]
  },
  {
   "cell_type": "code",
   "execution_count": null,
   "id": "e653c598",
   "metadata": {},
   "outputs": [
    {
     "name": "stdout",
     "output_type": "stream",
     "text": [
      "[('name', 'Ali'), ('age', 25)]\n"
     ]
    },
    {
     "data": {
      "text/plain": [
       "['age', 25]"
      ]
     },
     "execution_count": 147,
     "metadata": {},
     "output_type": "execute_result"
    }
   ],
   "source": [
    "d = {\"name\": \"Ali\", \"age\": 25, \"\": -1}\n",
    "f = list(filter(lambda item: item[0] != \"\" and (isinstance(item[1], (int, float)) and item[1] > 0) or (isinstance(item[1],str) and item[1] !=\"\"), d.items()))\n",
    "print(f)\n",
    "for i in f :\n",
    "    c=list(map(lambda x:x,i))\n",
    "\n",
    "\n",
    "\n",
    "\n"
   ]
  },
  {
   "cell_type": "code",
   "execution_count": 157,
   "id": "867d3f5e",
   "metadata": {},
   "outputs": [
    {
     "data": {
      "text/plain": [
       "['Ali(25)', 'Sara(22)']"
      ]
     },
     "execution_count": 157,
     "metadata": {},
     "output_type": "execute_result"
    }
   ],
   "source": [
    "users = [\n",
    "    {\"name\": \"Ali\", \"age\": 25},\n",
    "    {\"name\": \"Mona\", \"age\": None},\n",
    "    {\"name\": \"\", \"age\": 30},\n",
    "    {\"name\": \"Ziad\", \"age\": -5},\n",
    "    {\"name\": \"Sara\", \"age\": 22}\n",
    "]\n",
    "\n",
    "cleand = list(filter(lambda user:user['name'].strip() != \"\" and user[\"age\"] is not None and user[\"age\"] >0,users))\n",
    "formated = list(map(lambda user:f'{user[\"name\"]}({user[\"age\"]})',cleand))\n",
    "formated"
   ]
  },
  {
   "cell_type": "code",
   "execution_count": 169,
   "id": "8b40d3bb",
   "metadata": {},
   "outputs": [
    {
     "data": {
      "text/plain": [
       "['Ali(25)', 'Sara(22)']"
      ]
     },
     "execution_count": 169,
     "metadata": {},
     "output_type": "execute_result"
    }
   ],
   "source": [
    "def analyze_data_json(data,filt=None) :\n",
    "    if filt is None :\n",
    "        filt=[]\n",
    "    if isinstance(data,dict) :\n",
    "        if data.get(\"name\",\"\").strip() != \"\" and data.get(\"age\") is not None and data.get(\"age\") >0  :\n",
    "            filt.append(data) \n",
    "    elif isinstance(data,list) :\n",
    "        \n",
    "        for item in data :\n",
    "            analyze_data_json(item,filt)\n",
    "    return map_dict(filt)\n",
    "def map_dict(data):\n",
    "    return list(map(lambda user:f'{user[\"name\"]}({user[\"age\"]})',data))\n",
    "        \n",
    "users = [\n",
    "    {\"name\": \"Ali\", \"age\": 25},\n",
    "    {\"name\": \"Mona\", \"age\": None},\n",
    "    [{\"name\": \"\", \"age\": 30}],\n",
    "    {\"name\": \"Ziad\", \"age\": -5},\n",
    "    {\"name\": \"Sara\", \"age\": 22}\n",
    "]\n",
    "analyze_data_json(users)\n"
   ]
  },
  {
   "cell_type": "code",
   "execution_count": 171,
   "id": "cedb87d4",
   "metadata": {},
   "outputs": [
    {
     "data": {
      "text/plain": [
       "['Ali(25)', 'Sara(22)']"
      ]
     },
     "execution_count": 171,
     "metadata": {},
     "output_type": "execute_result"
    }
   ],
   "source": [
    "def analyze_data_json(data,filt = None) :\n",
    "    if filt is None :\n",
    "        filt = []\n",
    "    if isinstance(data,dict) :\n",
    "        if data.get(\"name\",\"\").strip() !=\"\" and data.get(\"age\") is not None and data.get(\"age\") >0 :\n",
    "            filt.append(data)\n",
    "    elif isinstance(data,list) :\n",
    "        for item in data :\n",
    "            analyze_data_json(item,filt)\n",
    "    return map_dict1(filt)\n",
    "def map_dict1(data) :\n",
    "    return list(map(lambda user:f'{user[\"name\"]}({user[\"age\"]})',data))                  \n",
    "users = [\n",
    "    {\"name\": \"Ali\", \"age\": 25},\n",
    "    {\"name\": \"Mona\", \"age\": None},\n",
    "    [{\"name\": \"\", \"age\": 30}],\n",
    "    {\"name\": \"Ziad\", \"age\": -5},\n",
    "    {\"name\": \"Sara\", \"age\": 22}\n",
    "]\n",
    "analyze_data_json(users)"
   ]
  },
  {
   "cell_type": "code",
   "execution_count": null,
   "id": "096e6043",
   "metadata": {},
   "outputs": [],
   "source": []
  }
 ],
 "metadata": {
  "kernelspec": {
   "display_name": "arab",
   "language": "python",
   "name": "python3"
  },
  "language_info": {
   "codemirror_mode": {
    "name": "ipython",
    "version": 3
   },
   "file_extension": ".py",
   "mimetype": "text/x-python",
   "name": "python",
   "nbconvert_exporter": "python",
   "pygments_lexer": "ipython3",
   "version": "3.12.9"
  }
 },
 "nbformat": 4,
 "nbformat_minor": 5
}
