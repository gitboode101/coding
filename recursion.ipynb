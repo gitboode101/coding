{
 "cells": [
  {
   "cell_type": "markdown",
   "id": "44f1f636",
   "metadata": {},
   "source": [
    "Write a function named sum_numbers(n) that takes an integer n and returns the sum of all numbers from 1 to n using recursion."
   ]
  },
  {
   "cell_type": "code",
   "execution_count": 1,
   "id": "cd7947e4",
   "metadata": {},
   "outputs": [],
   "source": [
    "num = 5 "
   ]
  },
  {
   "cell_type": "code",
   "execution_count": 2,
   "id": "b59cb2cd",
   "metadata": {},
   "outputs": [
    {
     "data": {
      "text/plain": [
       "15"
      ]
     },
     "execution_count": 2,
     "metadata": {},
     "output_type": "execute_result"
    }
   ],
   "source": [
    "def sum_numbers(n) :\n",
    "    if n == 0 :\n",
    "        return 0 \n",
    "    return n + sum_numbers(n-1)\n",
    "sum_numbers(num)"
   ]
  },
  {
   "cell_type": "markdown",
   "id": "da4dbdc9",
   "metadata": {},
   "source": [
    "Write a function named print_numbers(n) that prints the numbers from 1 to n in ascending order using"
   ]
  },
  {
   "cell_type": "code",
   "execution_count": 3,
   "id": "7e5d532d",
   "metadata": {},
   "outputs": [
    {
     "name": "stdout",
     "output_type": "stream",
     "text": [
      "1\n",
      "2\n",
      "3\n",
      "4\n",
      "5\n"
     ]
    }
   ],
   "source": [
    "def print_numbers(n) :\n",
    "    if n == 0 :\n",
    "        return \n",
    "    print_numbers(n-1)\n",
    "    print(n)\n",
    "print_numbers(num)    "
   ]
  },
  {
   "cell_type": "markdown",
   "id": "ab709a86",
   "metadata": {},
   "source": [
    "Write a function named sum_range(start, end) that returns the sum of all numbers between start and end (inclusive), using recursion."
   ]
  },
  {
   "cell_type": "code",
   "execution_count": 4,
   "id": "5578a269",
   "metadata": {},
   "outputs": [],
   "source": [
    "start = 3\n",
    "end = 6"
   ]
  },
  {
   "cell_type": "code",
   "execution_count": 5,
   "id": "0fec0d12",
   "metadata": {},
   "outputs": [
    {
     "data": {
      "text/plain": [
       "18"
      ]
     },
     "execution_count": 5,
     "metadata": {},
     "output_type": "execute_result"
    }
   ],
   "source": [
    "def sum_range(start,end) :\n",
    "    if start > end :\n",
    "        return 0\n",
    "    return start + sum_range(start +1 ,end)\n",
    "sum_range(start,end)"
   ]
  },
  {
   "cell_type": "markdown",
   "id": "8ffd3283",
   "metadata": {},
   "source": [
    "Write a function reverse_string(text) that takes a string and returns its reverse using recursion."
   ]
  },
  {
   "cell_type": "code",
   "execution_count": 10,
   "id": "949dd6d6",
   "metadata": {},
   "outputs": [],
   "source": [
    "string = \"hello\""
   ]
  },
  {
   "cell_type": "code",
   "execution_count": 11,
   "id": "61119391",
   "metadata": {},
   "outputs": [
    {
     "data": {
      "text/plain": [
       "'olleh'"
      ]
     },
     "execution_count": 11,
     "metadata": {},
     "output_type": "execute_result"
    }
   ],
   "source": [
    "def reverse_string(str_ing,index = 0, st = None) :\n",
    "    if st is None :\n",
    "        st = ''\n",
    "    if index == len(str_ing) :\n",
    "        return st \n",
    "    st += str_ing[-(index+1)]\n",
    "    return reverse_string(str_ing,index+1,st) \n",
    "reverse_string(string)   \n"
   ]
  },
  {
   "cell_type": "markdown",
   "id": "e6851103",
   "metadata": {},
   "source": [
    "Write a function is_palindrome(s) that checks if a string s is a palindrome using recursion.\n",
    "\n",
    "A string is a palindrome if it reads the same forward and backward."
   ]
  },
  {
   "cell_type": "code",
   "execution_count": 21,
   "id": "b779ff53",
   "metadata": {},
   "outputs": [
    {
     "name": "stdout",
     "output_type": "stream",
     "text": [
      "level is True\n",
      "hello is False\n",
      "racecar is True\n",
      "world is False\n",
      "madam is True\n"
     ]
    }
   ],
   "source": [
    "def is_palindrome(string) :\n",
    "    if len(string)<=1 :\n",
    "        return True \n",
    "    elif string[0] != string[-1] :\n",
    "        return False\n",
    "    return is_palindrome(string[1:-1])\n",
    "def print_result(lst) :\n",
    "    for i in lst :\n",
    "        print(f'{i} is {is_palindrome(i)}')\n",
    "string_list = [\"level\", \"hello\", \"racecar\", \"world\", \"madam\"]        \n",
    "print_result(string_list)        \n",
    "     "
   ]
  },
  {
   "cell_type": "markdown",
   "id": "55211b29",
   "metadata": {},
   "source": [
    "Write a recursive function sum_list(lst) that takes a list of integers and returns the sum of all the elements in the list."
   ]
  },
  {
   "cell_type": "code",
   "execution_count": 27,
   "id": "fe424ce0",
   "metadata": {},
   "outputs": [
    {
     "data": {
      "text/plain": [
       "10"
      ]
     },
     "execution_count": 27,
     "metadata": {},
     "output_type": "execute_result"
    }
   ],
   "source": [
    "def sum_list(lst,index = 0 ,result = None) :\n",
    "    if result is None :\n",
    "        result = 0\n",
    "    if index == len(lst) :\n",
    "        return result \n",
    "    result += lst[index]\n",
    "    return sum_list(lst,index+1,result)    \n",
    "num_list = [1,2,3,4]\n",
    "sum_list(num_list)"
   ]
  },
  {
   "cell_type": "markdown",
   "id": "9a753250",
   "metadata": {},
   "source": [
    "Write a function reverse_list(lst) that takes a list and returns it reversed using recursion (not using [::-1] or reversed()).\n",
    "\n"
   ]
  },
  {
   "cell_type": "code",
   "execution_count": 45,
   "id": "9a749c64",
   "metadata": {},
   "outputs": [
    {
     "data": {
      "text/plain": [
       "[8, 7, 6, 5, 4, 3, 2, 1]"
      ]
     },
     "execution_count": 45,
     "metadata": {},
     "output_type": "execute_result"
    }
   ],
   "source": [
    "def reverse_list_num(lst) :\n",
    "    half_len = len(lst)//2\n",
    "    n = len(lst)-1\n",
    "    for i in range(half_len) :\n",
    "        lst[i],lst[n-i] = lst[n-i],lst[i]\n",
    "    return lst    \n",
    "list_num = [1,2,3,4,5,6,7,8]\n",
    "reverse_list_num(list_num)      "
   ]
  },
  {
   "cell_type": "code",
   "execution_count": 46,
   "id": "61b32925",
   "metadata": {},
   "outputs": [
    {
     "data": {
      "text/plain": [
       "[8, 7, 6, 5, 4, 3, 2, 1]"
      ]
     },
     "execution_count": 46,
     "metadata": {},
     "output_type": "execute_result"
    }
   ],
   "source": [
    "def reverse_list_n(lst,index = 0,ls = None) :\n",
    "    if ls is None :\n",
    "        ls = []\n",
    "    if index == len(lst) :\n",
    "        return ls \n",
    "    ls.append(lst[-(index+1)])\n",
    "    return reverse_list_n(lst,index+1,ls)\n",
    "list_num = [1,2,3,4,5,6,7,8]\n",
    "reverse_list_n(list_num)    \n"
   ]
  },
  {
   "cell_type": "markdown",
   "id": "80d4ed43",
   "metadata": {},
   "source": [
    "Write a recursive function named find_max(lst, index=0, current_max=None) that takes a list of numbers and returns the maximum value using recursion.\n",
    "\n"
   ]
  },
  {
   "cell_type": "code",
   "execution_count": 50,
   "id": "8753d69c",
   "metadata": {},
   "outputs": [
    {
     "data": {
      "text/plain": [
       "9"
      ]
     },
     "execution_count": 50,
     "metadata": {},
     "output_type": "execute_result"
    }
   ],
   "source": [
    "def find_max(lst,index = 0 , max_num = None) :\n",
    "    if index == len(lst) :\n",
    "        return max_num\n",
    "    if max_num is None or lst[index] >max_num :\n",
    "        max_num = lst[index]\n",
    "    \n",
    "\n",
    "    return find_max(lst,index+1,max_num)\n",
    "list_numbres = [1,5,2,9,4]\n",
    "find_max(list_numbres)    \n"
   ]
  },
  {
   "cell_type": "markdown",
   "id": "da356e92",
   "metadata": {},
   "source": [
    "Write a recursive function sum_shallow_nested_list(lst) that takes a list containing integers and nested one-level lists. It should return the sum of all integers, without going deeper than one level.\n",
    "\n"
   ]
  },
  {
   "cell_type": "code",
   "execution_count": 3,
   "id": "24c2f9ea",
   "metadata": {},
   "outputs": [
    {
     "data": {
      "text/plain": [
       "10"
      ]
     },
     "execution_count": 3,
     "metadata": {},
     "output_type": "execute_result"
    }
   ],
   "source": [
    "def sum_shallow_nested_list(lst , index = 0,result = None) :\n",
    "    if result is None :\n",
    "        result = 0\n",
    "    if index == len(lst) :\n",
    "        return result \n",
    "    items = lst[index]\n",
    "    if isinstance(items,int):\n",
    "        result +=items \n",
    "    elif isinstance(items,list):\n",
    "        for val in items:\n",
    "            result +=val\n",
    "    return sum_shallow_nested_list(lst, index +1 ,result)\n",
    "list_nu = [1,[2,3],4]\n",
    "sum_shallow_nested_list(list_nu)            "
   ]
  },
  {
   "cell_type": "markdown",
   "id": "5e8c7bac",
   "metadata": {},
   "source": [
    "Write a recursive function that sums all the numbers in a deeply nested list, no matter how deep the nesting is.\n",
    "\n",
    "\n"
   ]
  },
  {
   "cell_type": "code",
   "execution_count": 6,
   "id": "b08c7f8b",
   "metadata": {},
   "outputs": [
    {
     "data": {
      "text/plain": [
       "15"
      ]
     },
     "execution_count": 6,
     "metadata": {},
     "output_type": "execute_result"
    }
   ],
   "source": [
    "def sum_deep(lst, index=0 ,result = None):\n",
    "    if result is None :\n",
    "        result = 0\n",
    "    if index == len(lst) :\n",
    "        return result\n",
    "    items = lst[index]\n",
    "    if isinstance(items,int) :\n",
    "        result += items\n",
    "    elif isinstance(items,list) :\n",
    "        result = sum_deep(items,0,result)\n",
    "    return sum_deep(lst,index+1,result)\n",
    "data = [1, [2, [3, [4]]], 5]    \n",
    "sum_deep(data)       "
   ]
  },
  {
   "cell_type": "code",
   "execution_count": null,
   "id": "96b14300",
   "metadata": {},
   "outputs": [],
   "source": [
    "Write a recursive function that counts how many values of each type are in a deeply nested list or dict:\n",
    "\n",
    "Integers\n",
    "\n",
    "Strings\n",
    "\n",
    "Booleans\n",
    "\n",
    "None"
   ]
  },
  {
   "cell_type": "code",
   "execution_count": 177,
   "id": "94975991",
   "metadata": {},
   "outputs": [
    {
     "data": {
      "text/plain": [
       "{'int': 3, 'str': 2, 'None': 1}"
      ]
     },
     "execution_count": 177,
     "metadata": {},
     "output_type": "execute_result"
    }
   ],
   "source": [
    "def count_value_type(data, index=0, result=None):\n",
    "    if result is None:\n",
    "        result = {}\n",
    "\n",
    "    if not isinstance(data, list):\n",
    "        if data is None:\n",
    "            result[\"None\"] = result.get(\"None\", 0) + 1\n",
    "        elif isinstance(data, bool):\n",
    "            result[\"bool\"] = result.get(\"bool\", 0) + 1\n",
    "        elif isinstance(data, float):\n",
    "            result[\"float\"] = result.get(\"float\", 0) + 1\n",
    "        elif isinstance(data, str):\n",
    "            result[\"str\"] = result.get(\"str\", 0) + 1\n",
    "        elif isinstance(data, int):\n",
    "            result[\"int\"] = result.get(\"int\", 0) + 1\n",
    "        elif isinstance(data, dict):\n",
    "            for val in data.values():\n",
    "                result = count_value_type(val, 0, result)\n",
    "        return result\n",
    "\n",
    "    if index == len(data):\n",
    "        return result\n",
    "\n",
    "    item = data[index]\n",
    "    result = count_value_type(item, 0, result)\n",
    "    return count_value_type(data, index + 1, result)\n",
    "data1 = [1, None, \"hello\", [True, {\"x\": 5, \"y\": \"world\"}]]\n",
    "b = {\n",
    "    \"a\": 1,\n",
    "    \"b\": {\n",
    "        \"c\": \"2024-12-01\",\n",
    "        \"d\": {\n",
    "            \"e\": None,\n",
    "            \"f\": [1, 2, {\"g\": \"hello\"}]\n",
    "        }\n",
    "    }\n",
    "}\n",
    "\n",
    "count_value_type(b)\n"
   ]
  },
  {
   "cell_type": "markdown",
   "id": "745844db",
   "metadata": {},
   "source": [
    "Write a recursive function count_dates(data) that goes through any nested structure (lists and dictionaries) and counts how many strings are valid dates in formats like \"2024-01-01\" or \"01.02.2024\".\n",
    "\n"
   ]
  },
  {
   "cell_type": "code",
   "execution_count": 176,
   "id": "a70cf976",
   "metadata": {},
   "outputs": [
    {
     "name": "stdout",
     "output_type": "stream",
     "text": [
      "{'date': 4}\n",
      "{'date': 1}\n"
     ]
    }
   ],
   "source": [
    "from datetime import datetime\n",
    "\n",
    "def is_date(string):\n",
    "    formats = [\"%Y.%m.%d\", \"%d.%m.%Y\", \"%d/%m/%Y\", \"%Y-%m-%d\", \"%d-%m-%Y\"]\n",
    "    for fmt in formats:\n",
    "        try:\n",
    "            datetime.strptime(string, fmt)\n",
    "            return True\n",
    "        except ValueError:\n",
    "            continue\n",
    "    return False\n",
    "\n",
    "def count_dates(data, index=0, result=None):\n",
    "    if result is None:\n",
    "        result = {\"date\": 0}\n",
    "    if not isinstance(data, list):\n",
    "        if isinstance(data, str) and is_date(data):\n",
    "            result['date'] += 1\n",
    "        elif isinstance(data, dict):\n",
    "            for val in data.values():\n",
    "                result = count_dates(val, 0, result)\n",
    "        return result\n",
    "    if index == len(data):\n",
    "        return result\n",
    "    result = count_dates(data[index], 0, result)\n",
    "    return count_dates(data, index + 1, result)\n",
    "\n",
    "# Example input\n",
    "data12 = [\n",
    "    \"2024-01-01\",\n",
    "    \"not a date\",\n",
    "    {\"x\": \"02-02-2024\", \"y\": [None, \"hello\", {\"z\": \"2023-12-01\"}]},\n",
    "    \"01-03-2024\"\n",
    "]\n",
    "\n",
    "b = {\n",
    "    \"a\": 1,\n",
    "    \"b\": {\n",
    "        \"c\": \"2024-12-01\",\n",
    "        \"d\": {\n",
    "            \"e\": None,\n",
    "            \"f\": [1, 2, {\"g\": \"hello\"}]\n",
    "        }\n",
    "    }\n",
    "}\n",
    "\n",
    "print(count_dates(data12))  # Output: {'date': 3}\n",
    "print(count_dates(b))"
   ]
  },
  {
   "cell_type": "code",
   "execution_count": 175,
   "id": "57ecf92c",
   "metadata": {},
   "outputs": [
    {
     "name": "stdout",
     "output_type": "stream",
     "text": [
      "{'date': 1}\n"
     ]
    }
   ],
   "source": [
    "print(count_dates(b))"
   ]
  },
  {
   "cell_type": "code",
   "execution_count": null,
   "id": "4567f4a4",
   "metadata": {},
   "outputs": [],
   "source": [
    "Write a recursive function analyze_json_tree(data) that traverses a deeply nested JSON-like Python structure (lists, dicts, strings, numbers, None, booleans) and returns a dictionary containing the count of each data type (int, float, str, bool, NoneType, date). The function should recognize dates in multiple formats.\n",
    "\n"
   ]
  },
  {
   "cell_type": "code",
   "execution_count": 31,
   "id": "c91b2cb7",
   "metadata": {},
   "outputs": [
    {
     "data": {
      "text/plain": [
       "{'int': 3, 'bool': 2, 'date': 3, 'str': 2, 'float': 1, 'None': 1}"
      ]
     },
     "execution_count": 31,
     "metadata": {},
     "output_type": "execute_result"
    }
   ],
   "source": [
    "from datetime import datetime\n",
    "\n",
    "def is_date(string):\n",
    "    formats = [\"%Y-%m-%d\"]\n",
    "    for fmt in formats:\n",
    "        try:\n",
    "            datetime.strptime(string, fmt)\n",
    "            return True\n",
    "        except ValueError:\n",
    "            continue\n",
    "    return False\n",
    "def analyze_json_tree(data,index=0,result = None) :\n",
    "    if result is None :\n",
    "        result = {}\n",
    "    if not isinstance(data,list):\n",
    "        if data is None :\n",
    "            result['None'] = result.get('None',0)+1\n",
    "        elif isinstance(data,str) and not is_date(data):\n",
    "            result['str'] = result.get('str',0)+1    \n",
    "        elif isinstance(data,dict):\n",
    "            for val in data.values():\n",
    "                result = analyze_json_tree(val,0,result)\n",
    "        elif isinstance(data,bool)  :\n",
    "            result['bool']  = result.get('bool',0)+1\n",
    "        elif isinstance(data,str) and is_date(data) :\n",
    "            result['date'] = result.get('date',0)+1\n",
    "      \n",
    "        elif isinstance(data,int) :\n",
    "            result['int'] = result.get('int',0)+1\n",
    "        elif isinstance(data,float) :\n",
    "            result['float'] = result.get('float',0)+1\n",
    "        return result\n",
    "    if index == len(data):\n",
    "        return result\n",
    "    items = data[index]\n",
    "    result = analyze_json_tree(items,0,result)\n",
    "    return analyze_json_tree(data,index+1,result)    \n",
    "json_tree = [\n",
    "    25,\n",
    "    False,\n",
    "    \"2024-01-01\",\n",
    "    \"hello\",\n",
    "    12.5,\n",
    "    {\"x\": \"2023-12-12\", \"y\": None},\n",
    "    [1, 2, \"not a date\", True, \"2022-05-10\"]\n",
    "]\n",
    "analyze_json_tree(json_tree)\n",
    "\n",
    "    "
   ]
  },
  {
   "cell_type": "markdown",
   "id": "119f7c4a",
   "metadata": {},
   "source": [
    "The function should return the sum of all value fields in the entire tre"
   ]
  },
  {
   "cell_type": "code",
   "execution_count": 93,
   "id": "2dadb70e",
   "metadata": {},
   "outputs": [
    {
     "data": {
      "text/plain": [
       "40"
      ]
     },
     "execution_count": 93,
     "metadata": {},
     "output_type": "execute_result"
    }
   ],
   "source": [
    "def tree_json_sum_number(tree) :\n",
    "    result = 0\n",
    "    result += tree['value']\n",
    "    for child in tree['children']:\n",
    "        result +=tree_json_sum_number(child)\n",
    "    return result  \n",
    "            \n",
    "    # return result     \n",
    "\n",
    "tree1 = {\n",
    "    \"value\": 10,  \n",
    "    \"children\": [\n",
    "        {\"value\": 5, \"children\": []},\n",
    "        {\"value\": 15, \"children\": [\n",
    "            {\"value\": 3, \"children\": []},\n",
    "            {\"value\": 7, \"children\": []}\n",
    "        ]}\n",
    "    ]\n",
    "}\n",
    "tree_json_sum_number(tree1)       "
   ]
  },
  {
   "cell_type": "markdown",
   "id": "5ce01e15",
   "metadata": {},
   "source": [
    "🧪 Find the minimum value in a nested tree using recursion.\n",
    "\n"
   ]
  },
  {
   "cell_type": "code",
   "execution_count": 117,
   "id": "1b88647e",
   "metadata": {},
   "outputs": [
    {
     "data": {
      "text/plain": [
       "3"
      ]
     },
     "execution_count": 117,
     "metadata": {},
     "output_type": "execute_result"
    }
   ],
   "source": [
    "def find_min(tree) :\n",
    "    \n",
    "    total = tree['value']\n",
    "    for child in tree['children'] :\n",
    "        if find_min(child)<total :\n",
    "            total= find_min(child)\n",
    "    return total     \n",
    "    \n",
    "tree = {\n",
    "    \"value\": 10,\n",
    "    \"children\": [\n",
    "        {\"value\": 5, \"children\": []},\n",
    "        {\"value\": 15, \"children\": [\n",
    "            {\"value\": 3, \"children\": []},\n",
    "            {\"value\": 7, \"children\": []}\n",
    "        ]}\n",
    "    ]\n",
    "}\n",
    "\n",
    "find_min(tree)\n",
    "    "
   ]
  },
  {
   "cell_type": "markdown",
   "id": "d51ef73f",
   "metadata": {},
   "source": [
    "Write a recursive function analyze_tree_types(tree) that receives a tree (a dictionary) like below and returns a dictionary of counts for each data type (e.g., int, str, None, bool, list, dict).\n",
    "\n"
   ]
  },
  {
   "cell_type": "code",
   "execution_count": 134,
   "id": "f7639649",
   "metadata": {},
   "outputs": [
    {
     "data": {
      "text/plain": [
       "{'int': 3, 'list': 2, 'str': 3, 'None': 1, 'dict': 1, 'bool': 1}"
      ]
     },
     "execution_count": 134,
     "metadata": {},
     "output_type": "execute_result"
    }
   ],
   "source": [
    "def analyze_tree_types(tree,count=None) :\n",
    "    if count is None :\n",
    "        count = {}\n",
    "    def process_value(val) :\n",
    "        \n",
    "        if val is None :\n",
    "            count['None'] = count.get('None',0)+1\n",
    "        elif isinstance(val,bool):\n",
    "            count['bool'] = count.get('bool',0)+1\n",
    "        elif isinstance(val,int):\n",
    "            count['int'] = count.get('int',0)+1\n",
    "        elif isinstance(val,str) :\n",
    "            count['str'] = count.get('str',0)+1   \n",
    "        elif isinstance(val,dict) :\n",
    "            count['dict'] = count.get('dict',0)+1\n",
    "            for v in val.values() :\n",
    "                process_value(v)\n",
    "        elif isinstance(val,list) :\n",
    "            count['list'] = count.get('list',0)+1\n",
    "            for i in val :\n",
    "                process_value(i)  \n",
    "    process_value(tree['value'])            \n",
    "    for child in tree['children'] :\n",
    "        analyze_tree_types(child,count)\n",
    "    return count        \n",
    "      \n",
    "   \n",
    "  \n",
    "\n",
    "            \n",
    "    \n",
    "tree_types = {\n",
    "    \"value\": 10,\n",
    "    \"children\": [\n",
    "        {\"value\": [5, \"hello\", None], \"children\": []},\n",
    "        {\"value\": {\"x\": 3, \"y\": [True, \"yes\"]}, \"children\": [\n",
    "            {\"value\": \"done\", \"children\": []}\n",
    "        ]}\n",
    "    ]\n",
    "}\n",
    "              \n",
    "                \n",
    "analyze_tree_types(tree_types)"
   ]
  },
  {
   "cell_type": "markdown",
   "id": "bed3918e",
   "metadata": {},
   "source": [
    "\"\"\"\n",
    "Write a recursive function called `contains_value(tree, target)` that checks whether the given target value exists anywhere in a nested dictionary (tree).\n",
    "\n",
    "Each node in the tree is a dictionary where:\n",
    "- keys are strings,\n",
    "- values can be any type (int, str, list, dict, etc),\n",
    "- if a value is a dictionary, it represents a subtree.\n",
    "\n",
    "Example:\n",
    "tree = {\n",
    "    \"a\": 1,\n",
    "    \"b\": {\n",
    "        \"c\": 2,\n",
    "        \"d\": {\n",
    "            \"e\": 3\n",
    "        }\n",
    "    }\n",
    "}"
   ]
  },
  {
   "cell_type": "code",
   "execution_count": 148,
   "id": "8422b885",
   "metadata": {},
   "outputs": [
    {
     "name": "stdout",
     "output_type": "stream",
     "text": [
      "True\n"
     ]
    }
   ],
   "source": [
    "def contains_value(tree,target) :\n",
    "    for value in tree.values():\n",
    "        if value == target :\n",
    "            return True\n",
    "        elif isinstance(value,dict):\n",
    "            if contains_value(value,target) :\n",
    "                return True \n",
    "                \n",
    "    return False     \n",
    "tree = {\n",
    "    \"a\": 1,\n",
    "    \"b\": {\n",
    "        \"c\": 2,\n",
    "        \"d\": {\n",
    "            \"e\": 3\n",
    "        }\n",
    "    }\n",
    "}            \n",
    "print(contains_value(tree,2))                    "
   ]
  },
  {
   "cell_type": "markdown",
   "id": "87c0a7cd",
   "metadata": {},
   "source": [
    "\"\"\"\n",
    "Write a recursive function called `count_nodes(tree)` that counts the total number of nodes (key-value pairs) in a nested dictionary tree.\n",
    "\n",
    "Each node is a key with a value. If the value is a dictionary, it is a subtree.\n",
    "\n",
    "Example:\n",
    "tree = {\n",
    "    \"a\": 1,\n",
    "    \"b\": {\n",
    "        \"c\": 2,\n",
    "        \"d\": {\n",
    "            \"e\": 3\n",
    "        }\n",
    "    }\n",
    "}\n",
    "count_nodes(tree) -> 5   # a, b, c, d, e\n",
    "\"\"\"\n"
   ]
  },
  {
   "cell_type": "code",
   "execution_count": null,
   "id": "87b8d255",
   "metadata": {},
   "outputs": [
    {
     "data": {
      "text/plain": [
       "5"
      ]
     },
     "execution_count": 166,
     "metadata": {},
     "output_type": "execute_result"
    }
   ],
   "source": [
    "def count_nodes(tree) :\n",
    "    count = 0\n",
    "    for i in tree.values() :\n",
    "        count +=1\n",
    "        if isinstance(i,dict):\n",
    "           count +=count_nodes(i)\n",
    "    return count        \n",
    "       \n",
    "\n",
    "       \n",
    "tree = {\n",
    "    \"a\": 1,\n",
    "    \"b\": {\n",
    "        \"c\": 2,\n",
    "        \"d\": {\n",
    "            \"e\": 3\n",
    "        }\n",
    "    }\n",
    "}   \n",
    "count_nodes(tree)    "
   ]
  },
  {
   "cell_type": "markdown",
   "id": "11859a63",
   "metadata": {},
   "source": [
    "\"\"\"\n",
    "Write a recursive function `analyze_types(tree)` that returns a set of all data types found inside a nested dictionary (tree). \n",
    "\n",
    "Values can be:\n",
    "- integers, strings, floats, None, booleans\n",
    "- lists (with any content)\n",
    "- dictionaries (subtrees)\n",
    "- ISO-formatted date strings like \"2024-12-01\"\n",
    "\n",
    "You should try to parse strings as dates using multiple common formats:\n",
    "- \"%Y-%m-%d\", \"%d/%m/%Y\", \"%m-%d-%Y\", etc.\n",
    "\n",
    "Return a set of types, like:\n",
    "{int, str, float, NoneType, bool, list, dict, datetime}\n",
    "\n",
    "Use `datetime.strptime` to detect dates.\n",
    "\n",
    "Example:\n",
    "tree = {\n",
    "    \"a\": 1,\n",
    "    \"b\": {\n",
    "        \"c\": \"2024-12-01\",\n",
    "        \"d\": {\n",
    "            \"e\": None,\n",
    "            \"f\": [1, 2, {\"g\": \"hello\"}]\n",
    "        }\n",
    "    }\n",
    "}\n",
    "analyze_types(tree) -> {int, str, NoneType, list, dict, datetime}\n",
    "\"\"\"\n"
   ]
  },
  {
   "cell_type": "code",
   "execution_count": 173,
   "id": "27df07d7",
   "metadata": {},
   "outputs": [
    {
     "ename": "AttributeError",
     "evalue": "'str' object has no attribute 'values'",
     "output_type": "error",
     "traceback": [
      "\u001b[1;31m---------------------------------------------------------------------------\u001b[0m",
      "\u001b[1;31mAttributeError\u001b[0m                            Traceback (most recent call last)",
      "Cell \u001b[1;32mIn[173], line 33\u001b[0m\n\u001b[0;32m     22\u001b[0m     \u001b[38;5;28;01mreturn\u001b[39;00m count \n\u001b[0;32m     23\u001b[0m tree \u001b[38;5;241m=\u001b[39m {\n\u001b[0;32m     24\u001b[0m     \u001b[38;5;124m\"\u001b[39m\u001b[38;5;124ma\u001b[39m\u001b[38;5;124m\"\u001b[39m: \u001b[38;5;241m1\u001b[39m,\n\u001b[0;32m     25\u001b[0m     \u001b[38;5;124m\"\u001b[39m\u001b[38;5;124mb\u001b[39m\u001b[38;5;124m\"\u001b[39m: {\n\u001b[1;32m   (...)\u001b[0m\n\u001b[0;32m     31\u001b[0m     }\n\u001b[0;32m     32\u001b[0m }\n\u001b[1;32m---> 33\u001b[0m analyze_types(tree)\n",
      "Cell \u001b[1;32mIn[173], line 21\u001b[0m, in \u001b[0;36manalyze_types\u001b[1;34m(tree)\u001b[0m\n\u001b[0;32m     19\u001b[0m         count[\u001b[38;5;124m'\u001b[39m\u001b[38;5;124mdict\u001b[39m\u001b[38;5;124m'\u001b[39m] \u001b[38;5;241m=\u001b[39m count\u001b[38;5;241m.\u001b[39mget(\u001b[38;5;124m'\u001b[39m\u001b[38;5;124mdict\u001b[39m\u001b[38;5;124m'\u001b[39m,\u001b[38;5;241m0\u001b[39m) \u001b[38;5;241m+\u001b[39m\u001b[38;5;241m1\u001b[39m\n\u001b[0;32m     20\u001b[0m         \u001b[38;5;28;01mfor\u001b[39;00m item \u001b[38;5;129;01min\u001b[39;00m val\u001b[38;5;241m.\u001b[39mvalues() :\n\u001b[1;32m---> 21\u001b[0m              count \u001b[38;5;241m=\u001b[39manalyze_types(item)    \n\u001b[0;32m     22\u001b[0m \u001b[38;5;28;01mreturn\u001b[39;00m count\n",
      "Cell \u001b[1;32mIn[173], line 3\u001b[0m, in \u001b[0;36manalyze_types\u001b[1;34m(tree)\u001b[0m\n\u001b[0;32m      1\u001b[0m \u001b[38;5;28;01mdef\u001b[39;00m \u001b[38;5;21manalyze_types\u001b[39m(tree) :\n\u001b[0;32m      2\u001b[0m     count \u001b[38;5;241m=\u001b[39m {} \n\u001b[1;32m----> 3\u001b[0m     \u001b[38;5;28;01mfor\u001b[39;00m val \u001b[38;5;129;01min\u001b[39;00m tree\u001b[38;5;241m.\u001b[39mvalues():\n\u001b[0;32m      4\u001b[0m         \u001b[38;5;28;01mif\u001b[39;00m val \u001b[38;5;129;01mis\u001b[39;00m \u001b[38;5;28;01mNone\u001b[39;00m :\n\u001b[0;32m      5\u001b[0m             count[\u001b[38;5;124m'\u001b[39m\u001b[38;5;124mNone\u001b[39m\u001b[38;5;124m'\u001b[39m] \u001b[38;5;241m=\u001b[39m count\u001b[38;5;241m.\u001b[39mget(\u001b[38;5;124m'\u001b[39m\u001b[38;5;124mNone\u001b[39m\u001b[38;5;124m'\u001b[39m,\u001b[38;5;241m0\u001b[39m) \u001b[38;5;241m+\u001b[39m\u001b[38;5;241m1\u001b[39m \n",
      "\u001b[1;31mAttributeError\u001b[0m: 'str' object has no attribute 'values'"
     ]
    }
   ],
   "source": [
    "def analyze_types(tree) :\n",
    "    count = {} \n",
    "    for val in tree.values():\n",
    "        if val is None :\n",
    "            count['None'] = count.get('None',0) +1 \n",
    "        elif isinstance(val,bool):\n",
    "            count['bool'] = count.get('bool',0) +1\n",
    "        elif isinstance(val,int):\n",
    "            count['int'] = count.get('int',0)+1\n",
    "        elif isinstance(val,str) and not is_date(val):\n",
    "            count['str'] = count.get('str',0)+1\n",
    "        elif isinstance(val,str) and is_date(val) :\n",
    "            count['date'] = count.get('date',0) +1\n",
    "        elif isinstance(val,list) :\n",
    "            count['list'] = count.get('list',0) +1\n",
    "            for items in val :\n",
    "                 count=analyze_types(items)\n",
    "        elif isinstance(val,dict) :\n",
    "            count['dict'] = count.get('dict',0) +1\n",
    "            for item in val.values() :\n",
    "                 count =analyze_types(item)    \n",
    "    return count \n",
    "tree = {\n",
    "    \"a\": 1,\n",
    "    \"b\": {\n",
    "        \"c\": \"2024-12-01\",\n",
    "        \"d\": {\n",
    "            \"e\": None,\n",
    "            \"f\": [1, 2, {\"g\": \"hello\"}]\n",
    "        }\n",
    "    }\n",
    "}\n",
    "analyze_types(tree)               \n",
    "\n",
    "            "
   ]
  },
  {
   "cell_type": "code",
   "execution_count": null,
   "id": "7af96d16",
   "metadata": {},
   "outputs": [],
   "source": []
  }
 ],
 "metadata": {
  "kernelspec": {
   "display_name": "arab",
   "language": "python",
   "name": "python3"
  },
  "language_info": {
   "codemirror_mode": {
    "name": "ipython",
    "version": 3
   },
   "file_extension": ".py",
   "mimetype": "text/x-python",
   "name": "python",
   "nbconvert_exporter": "python",
   "pygments_lexer": "ipython3",
   "version": "3.12.9"
  }
 },
 "nbformat": 4,
 "nbformat_minor": 5
}
