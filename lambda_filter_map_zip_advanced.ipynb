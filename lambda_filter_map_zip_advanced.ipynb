{
 "cells": [
  {
   "cell_type": "markdown",
   "id": "251ac83e",
   "metadata": {},
   "source": [
    "lambda arguments: expression"
   ]
  },
  {
   "cell_type": "code",
   "execution_count": 2,
   "id": "673f6387",
   "metadata": {},
   "outputs": [
    {
     "data": {
      "text/plain": [
       "15"
      ]
     },
     "execution_count": 2,
     "metadata": {},
     "output_type": "execute_result"
    }
   ],
   "source": [
    "add_5 = lambda x: x +5\n",
    "add_5(10)"
   ]
  },
  {
   "cell_type": "code",
   "execution_count": 3,
   "id": "c7f21a57",
   "metadata": {},
   "outputs": [
    {
     "data": {
      "text/plain": [
       "6"
      ]
     },
     "execution_count": 3,
     "metadata": {},
     "output_type": "execute_result"
    }
   ],
   "source": [
    "multipla = lambda x,y : x*y\n",
    "multipla(2,3)"
   ]
  },
  {
   "cell_type": "code",
   "execution_count": 4,
   "id": "cefe9e13",
   "metadata": {},
   "outputs": [
    {
     "data": {
      "text/plain": [
       "9"
      ]
     },
     "execution_count": 4,
     "metadata": {},
     "output_type": "execute_result"
    }
   ],
   "source": [
    "combine = lambda a,b,c: (a+b)*c\n",
    "combine(1,2,3)"
   ]
  },
  {
   "cell_type": "markdown",
   "id": "7f211e61",
   "metadata": {},
   "source": [
    "Sort by name length:"
   ]
  },
  {
   "cell_type": "code",
   "execution_count": 5,
   "id": "28a9ec2e",
   "metadata": {},
   "outputs": [
    {
     "data": {
      "text/plain": [
       "['Adam', 'Zainab', 'Abdullah', 'Mohammed']"
      ]
     },
     "execution_count": 5,
     "metadata": {},
     "output_type": "execute_result"
    }
   ],
   "source": [
    "names = [\"Abdullah\", \"Mohammed\", \"Zainab\", \"Adam\"]\n",
    "sorted_by_lenght = sorted(names , key= lambda name:len(name))\n",
    "sorted_by_lenght"
   ]
  },
  {
   "cell_type": "markdown",
   "id": "4d6cab73",
   "metadata": {},
   "source": [
    "List of tuples: (name, age) ,Sort by age:"
   ]
  },
  {
   "cell_type": "code",
   "execution_count": 6,
   "id": "f2bedeaf",
   "metadata": {},
   "outputs": [
    {
     "data": {
      "text/plain": [
       "[('Karim', 25), ('Sarah', 30), ('Leila', 35)]"
      ]
     },
     "execution_count": 6,
     "metadata": {},
     "output_type": "execute_result"
    }
   ],
   "source": [
    "people = [(\"Sarah\", 30), (\"Karim\", 25), (\"Leila\", 35)]\n",
    "sorted_by_age = sorted(people ,key=lambda person:person[1])\n",
    "sorted_by_age"
   ]
  },
  {
   "cell_type": "markdown",
   "id": "f0573213",
   "metadata": {},
   "source": [
    " Write a lambda function to convert degrees Celsius to Fahrenheit.\n",
    "# Formula: F = C * 9/5 + 32"
   ]
  },
  {
   "cell_type": "code",
   "execution_count": 9,
   "id": "8e2049a3",
   "metadata": {},
   "outputs": [
    {
     "data": {
      "text/plain": [
       "212.0"
      ]
     },
     "execution_count": 9,
     "metadata": {},
     "output_type": "execute_result"
    }
   ],
   "source": [
    "C = 100\n",
    "to_fahrenheit = lambda x: x*(9/5) +32\n",
    "to_fahrenheit(C)"
   ]
  },
  {
   "cell_type": "markdown",
   "id": "b2d83511",
   "metadata": {},
   "source": [
    "# ❓ Write lambda that returns the first letter of the name"
   ]
  },
  {
   "cell_type": "code",
   "execution_count": 10,
   "id": "2707d4ec",
   "metadata": {},
   "outputs": [
    {
     "data": {
      "text/plain": [
       "'A'"
      ]
     },
     "execution_count": 10,
     "metadata": {},
     "output_type": "execute_result"
    }
   ],
   "source": [
    "get_initial = lambda x:x[0]\n",
    "get_initial('Abdullah')"
   ]
  },
  {
   "cell_type": "markdown",
   "id": "4ae702ba",
   "metadata": {},
   "source": [
    "lambda returns True if the number is even, False if odd"
   ]
  },
  {
   "cell_type": "code",
   "execution_count": 17,
   "id": "ea109941",
   "metadata": {},
   "outputs": [
    {
     "name": "stdout",
     "output_type": "stream",
     "text": [
      "False\n",
      "True\n"
     ]
    }
   ],
   "source": [
    "is_even = lambda x:  x%2 == 0\n",
    "print(is_even(5))\n",
    "print(is_even(2))"
   ]
  },
  {
   "cell_type": "markdown",
   "id": "a09d9fa6",
   "metadata": {},
   "source": [
    "lambda takes two numbers and returns the larger of the two"
   ]
  },
  {
   "cell_type": "code",
   "execution_count": 20,
   "id": "cbbb5cc1",
   "metadata": {},
   "outputs": [
    {
     "name": "stdout",
     "output_type": "stream",
     "text": [
      "10\n",
      "20\n"
     ]
    }
   ],
   "source": [
    "larger_num = lambda x,y :x if  x>y  else y \n",
    "print(larger_num(10,5))\n",
    "print(larger_num(5,20))"
   ]
  },
  {
   "cell_type": "markdown",
   "id": "97833b30",
   "metadata": {},
   "source": [
    "lambda takes 3 numbers and returns their average (sum ÷ 3)\n"
   ]
  },
  {
   "cell_type": "code",
   "execution_count": 28,
   "id": "1d7d040a",
   "metadata": {},
   "outputs": [
    {
     "data": {
      "text/plain": [
       "6.0"
      ]
     },
     "execution_count": 28,
     "metadata": {},
     "output_type": "execute_result"
    }
   ],
   "source": [
    "average = lambda x,y,c :sum([x,y,c]) /3\n",
    "average(3,6,9)"
   ]
  },
  {
   "cell_type": "markdown",
   "id": "34050c93",
   "metadata": {},
   "source": [
    "# ❓ lambda takes your age and returns \"Yes\" if you are >= 18, and \"No\" if less"
   ]
  },
  {
   "cell_type": "code",
   "execution_count": 34,
   "id": "c7a30a4f",
   "metadata": {},
   "outputs": [
    {
     "name": "stdout",
     "output_type": "stream",
     "text": [
      "False\n",
      "True\n"
     ]
    }
   ],
   "source": [
    "age = int(input('enter Age : '))\n",
    "can_vote = lambda x:True if x>=18  else False\n",
    "print(can_vote(age))\n",
    "can_vote = lambda x:x >=18\n",
    "print(can_vote(20))"
   ]
  },
  {
   "cell_type": "markdown",
   "id": "6c45a138",
   "metadata": {},
   "source": [
    "# ❓ lambda takes a string and a character, and checks whether the character is present in it or not"
   ]
  },
  {
   "cell_type": "code",
   "execution_count": null,
   "id": "0bea991d",
   "metadata": {},
   "outputs": [
    {
     "name": "stdout",
     "output_type": "stream",
     "text": [
      "False\n",
      "False\n"
     ]
    }
   ],
   "source": [
    "string = 'c'\n",
    "string_1 = 'b'\n",
    "contains_char = lambda x,y:y in x[::]\n",
    " \n",
    "print(contains_char('abdullah',string))\n",
    "print(contains_char('ammar',string_1))"
   ]
  },
  {
   "cell_type": "markdown",
   "id": "03503848",
   "metadata": {},
   "source": [
    "# ❓ lambda takes a string and calculates its length without counting spaces"
   ]
  },
  {
   "cell_type": "code",
   "execution_count": 56,
   "id": "1caffb8e",
   "metadata": {},
   "outputs": [
    {
     "data": {
      "text/plain": [
       "10"
      ]
     },
     "execution_count": 56,
     "metadata": {},
     "output_type": "execute_result"
    }
   ],
   "source": [
    "char_count = lambda x:len(x.replace(' ',''))\n",
    "char_count(\"hello world\")"
   ]
  },
  {
   "cell_type": "markdown",
   "id": "73505b1f",
   "metadata": {},
   "source": [
    "# ❓ lambda takes a file name like \"photo.jpg\" and returns \"jpg\""
   ]
  },
  {
   "cell_type": "code",
   "execution_count": 70,
   "id": "e3337a0c",
   "metadata": {},
   "outputs": [
    {
     "name": "stdout",
     "output_type": "stream",
     "text": [
      "report\n",
      "archive\n",
      "pdf.f.1\n",
      "zip\n"
     ]
    }
   ],
   "source": [
    "get_extension = lambda x:x.split('.',1)[0]\n",
    "print(get_extension(\"report.pdf.f.1\"))  \n",
    "print(get_extension(\"archive.zip\"))\n",
    "get_extension = lambda x:x.split('.',1)[-1]\n",
    "print(get_extension(\"report.pdf.f.1\"))  \n",
    "print(get_extension(\"archive.zip\"))\n"
   ]
  },
  {
   "cell_type": "markdown",
   "id": "1a539642",
   "metadata": {},
   "source": [
    "1. Map()\n",
    "The lambda function is applied to each structure in the sequence (list, row, etc.)"
   ]
  },
  {
   "cell_type": "code",
   "execution_count": 71,
   "id": "2356a04c",
   "metadata": {},
   "outputs": [
    {
     "data": {
      "text/plain": [
       "[1, 4, 9, 16]"
      ]
     },
     "execution_count": 71,
     "metadata": {},
     "output_type": "execute_result"
    }
   ],
   "source": [
    "numbers = [1, 2, 3, 4]\n",
    "squared = list(map(lambda x:x**2 ,numbers))\n",
    "squared"
   ]
  },
  {
   "cell_type": "markdown",
   "id": "fe1e2bff",
   "metadata": {},
   "source": [
    "2. filter()\n",
    "Returns elements that meet a specific condition."
   ]
  },
  {
   "cell_type": "code",
   "execution_count": 72,
   "id": "1c1f2bce",
   "metadata": {},
   "outputs": [
    {
     "data": {
      "text/plain": [
       "[10, 22, 40]"
      ]
     },
     "execution_count": 72,
     "metadata": {},
     "output_type": "execute_result"
    }
   ],
   "source": [
    "numbers = [10, 15, 22, 33, 40]\n",
    "even_numbers = list(filter(lambda x: x%2 == 0,numbers))\n",
    "even_numbers"
   ]
  },
  {
   "cell_type": "markdown",
   "id": "7f6c2b38",
   "metadata": {},
   "source": [
    "3. reduce() (from functools)\n",
    "The lambda function is applied accumulator to all elements."
   ]
  },
  {
   "cell_type": "code",
   "execution_count": 73,
   "id": "5ea903f3",
   "metadata": {},
   "outputs": [
    {
     "data": {
      "text/plain": [
       "24"
      ]
     },
     "execution_count": 73,
     "metadata": {},
     "output_type": "execute_result"
    }
   ],
   "source": [
    "from functools import reduce\n",
    "numbers = [1, 2, 3, 4]\n",
    "product = reduce(lambda x,y : x*y ,numbers)\n",
    "product"
   ]
  },
  {
   "cell_type": "markdown",
   "id": "9415a4d0",
   "metadata": {},
   "source": [
    "4. max() and min() with lambda\n",
    "To find the largest/smallest element based on a custom key."
   ]
  },
  {
   "cell_type": "code",
   "execution_count": 74,
   "id": "76f00e2b",
   "metadata": {},
   "outputs": [
    {
     "data": {
      "text/plain": [
       "{'name': 'Tariq', 'age': 35}"
      ]
     },
     "execution_count": 74,
     "metadata": {},
     "output_type": "execute_result"
    }
   ],
   "source": [
    "people = [\n",
    "    {'name': 'Ali', 'age': 30},\n",
    "    {'name': 'Sara', 'age': 25},\n",
    "    {'name': 'Tariq', 'age': 35}\n",
    "]\n",
    "oldest = max(people, key=lambda person: person['age'])\n",
    "oldest"
   ]
  },
  {
   "cell_type": "code",
   "execution_count": 76,
   "id": "bb383b77",
   "metadata": {},
   "outputs": [
    {
     "data": {
      "text/plain": [
       "['Apple', 'Avocado', 'apricot', 'banana', 'cherry']"
      ]
     },
     "execution_count": 76,
     "metadata": {},
     "output_type": "execute_result"
    }
   ],
   "source": [
    "words = [\"Apple\", \"banana\", \"Avocado\", \"cherry\", \"apricot\"]\n",
    "sorted(words)"
   ]
  },
  {
   "cell_type": "code",
   "execution_count": 84,
   "id": "4c9a0ad1",
   "metadata": {},
   "outputs": [
    {
     "data": {
      "text/plain": [
       "['Apple', 'Avocado', 'apricot']"
      ]
     },
     "execution_count": 84,
     "metadata": {},
     "output_type": "execute_result"
    }
   ],
   "source": [
    "\n",
    "words = [\"Apple\", \"banana\", \"Avocado\", \"cherry\", \"apricot\"]\n",
    "result = list(filter(lambda word: word.startswith(\"A\") or word.startswith('a'),words))\n",
    "result \n"
   ]
  },
  {
   "cell_type": "markdown",
   "id": "fc64adf2",
   "metadata": {},
   "source": [
    "Choose a function based on a given condition"
   ]
  },
  {
   "cell_type": "code",
   "execution_count": 86,
   "id": "73b6291d",
   "metadata": {},
   "outputs": [
    {
     "data": {
      "text/plain": [
       "100"
      ]
     },
     "execution_count": 86,
     "metadata": {},
     "output_type": "execute_result"
    }
   ],
   "source": [
    "x = 10 \n",
    "f = (lambda x:x**2) if x >5 else (lambda x:x+2)\n",
    "f(x)"
   ]
  },
  {
   "cell_type": "markdown",
   "id": "d8adb94d",
   "metadata": {},
   "source": [
    "We use lambda to implement a function inside a loop."
   ]
  },
  {
   "cell_type": "code",
   "execution_count": 87,
   "id": "ac6edef8",
   "metadata": {},
   "outputs": [
    {
     "data": {
      "text/plain": [
       "[0, 1, 4, 9, 16]"
      ]
     },
     "execution_count": 87,
     "metadata": {},
     "output_type": "execute_result"
    }
   ],
   "source": [
    "squares = []\n",
    "squer = lambda x:x**2\n",
    "for i in range(5):\n",
    "    squares.append(squer(i))\n",
    "squares    "
   ]
  },
  {
   "cell_type": "code",
   "execution_count": 89,
   "id": "6f36c973",
   "metadata": {},
   "outputs": [
    {
     "name": "stdout",
     "output_type": "stream",
     "text": [
      "2\n",
      "4\n",
      "6\n",
      "8\n"
     ]
    }
   ],
   "source": [
    "double = lambda x:x*2\n",
    "i=1\n",
    "while i<=4 :\n",
    "    print(double(i))\n",
    "    i+=1"
   ]
  },
  {
   "cell_type": "markdown",
   "id": "273d0bf4",
   "metadata": {},
   "source": [
    "inside def (meaning lambda as part of a regular function)"
   ]
  },
  {
   "cell_type": "code",
   "execution_count": 90,
   "id": "6d87d652",
   "metadata": {},
   "outputs": [
    {
     "data": {
      "text/plain": [
       "[11, 12, 13]"
      ]
     },
     "execution_count": 90,
     "metadata": {},
     "output_type": "execute_result"
    }
   ],
   "source": [
    "def applay_to_list(func,data) :\n",
    "    return [func(x) for x in data]\n",
    "applay_to_list(lambda x:x +10,[1,2,3])"
   ]
  },
  {
   "cell_type": "markdown",
   "id": "309d2d17",
   "metadata": {},
   "source": [
    "From within def (strongest use)"
   ]
  },
  {
   "cell_type": "code",
   "execution_count": 92,
   "id": "89576e92",
   "metadata": {},
   "outputs": [
    {
     "name": "stdout",
     "output_type": "stream",
     "text": [
      "10\n",
      "15\n"
     ]
    }
   ],
   "source": [
    "def make_multiplier(factor) :\n",
    "    return lambda x:x*factor\n",
    "double = make_multiplier(2)\n",
    "triple =make_multiplier(3)\n",
    "print(double(5))\n",
    "print(triple(5))"
   ]
  },
  {
   "cell_type": "code",
   "execution_count": 105,
   "id": "711fbf7f",
   "metadata": {},
   "outputs": [
    {
     "data": {
      "text/plain": [
       "[2, 4, 8]"
      ]
     },
     "execution_count": 105,
     "metadata": {},
     "output_type": "execute_result"
    }
   ],
   "source": [
    "def even_number(func,lst) :\n",
    "    return [x for x in lst if func(x)]\n",
    "numbres=[2,3,4,7,8]\n",
    "even_number(lambda x:x%2==0  ,numbres)\n"
   ]
  },
  {
   "cell_type": "code",
   "execution_count": null,
   "id": "a189f85e",
   "metadata": {},
   "outputs": [],
   "source": []
  }
 ],
 "metadata": {
  "kernelspec": {
   "display_name": "arab",
   "language": "python",
   "name": "python3"
  },
  "language_info": {
   "codemirror_mode": {
    "name": "ipython",
    "version": 3
   },
   "file_extension": ".py",
   "mimetype": "text/x-python",
   "name": "python",
   "nbconvert_exporter": "python",
   "pygments_lexer": "ipython3",
   "version": "3.12.9"
  }
 },
 "nbformat": 4,
 "nbformat_minor": 5
}
