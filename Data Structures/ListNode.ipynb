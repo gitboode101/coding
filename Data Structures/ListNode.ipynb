{
 "cells": [
  {
   "cell_type": "markdown",
   "id": "7aa7975d",
   "metadata": {},
   "source": [
    "singly-list"
   ]
  },
  {
   "cell_type": "code",
   "execution_count": 20,
   "id": "168385b3",
   "metadata": {},
   "outputs": [
    {
     "name": "stdout",
     "output_type": "stream",
     "text": [
      "1\n",
      "2\n",
      "3\n"
     ]
    }
   ],
   "source": [
    "class ListNode :\n",
    "    def __init__(self, value ,next= None) :\n",
    "        self.value =value\n",
    "        self.next = next\n",
    "def print_list(head):\n",
    "      p = head \n",
    "      while p!= None :\n",
    "           print(p.value)\n",
    "           p =p.next  \n",
    "node1 =ListNode(1)\n",
    "node2 = ListNode(2)\n",
    "node3 = ListNode(3)\n",
    "node1.next = node2\n",
    "node2.next  = node3\n",
    "head = node1\n",
    "# print(head.value)\n",
    "print_list(head)\n",
    "\n"
   ]
  },
  {
   "cell_type": "code",
   "execution_count": 47,
   "id": "49178faa",
   "metadata": {},
   "outputs": [
    {
     "name": "stdout",
     "output_type": "stream",
     "text": [
      "befor _\n",
      "\n",
      "1\n",
      "2\n",
      "3\n",
      "\n",
      "After__\n",
      "\n",
      "3\n",
      "2\n",
      "1\n"
     ]
    }
   ],
   "source": [
    "class ListNode :\n",
    "    def __init__(self,value,next =None) :\n",
    "        self.value = value\n",
    "        self.next = next \n",
    "def reverse_linked_list(head) :\n",
    "    prev = None \n",
    "    curr = head\n",
    "    while curr is not None :\n",
    "        next_node = curr.next\n",
    "        curr.next = prev\n",
    "        prev = curr\n",
    "        curr = next_node\n",
    "    return prev\n",
    "def print_list(head) :\n",
    "    p = head \n",
    "    while p is not None :\n",
    "        print(p.value)\n",
    "        p = p.next\n",
    "\n",
    "node1 = ListNode(1)\n",
    "node2 = ListNode(2)\n",
    "node3 = ListNode(3)\n",
    "node1.next =node2\n",
    "node2.next=node3\n",
    "head = node1\n",
    "print('befor _\\n')\n",
    "print_list(head)\n",
    "head = reverse_linked_list(head)\n",
    "print('\\nAfter__\\n')\n",
    "print_list(head)      "
   ]
  },
  {
   "cell_type": "markdown",
   "id": "710c7de6",
   "metadata": {},
   "source": [
    "Exercise 1: Finding a value in a list"
   ]
  },
  {
   "cell_type": "code",
   "execution_count": 15,
   "id": "3dfcfc5b",
   "metadata": {},
   "outputs": [
    {
     "name": "stdout",
     "output_type": "stream",
     "text": [
      "True found the target in the list : (1)\n",
      "the target : (6) is not found in list\n"
     ]
    }
   ],
   "source": [
    "class ListNode :\n",
    "    def __init__(self ,value ,next = None) :\n",
    "        self.value = value \n",
    "        self.next = next \n",
    "# list items add in value \n",
    "node_1 = ListNode(1)\n",
    "node_2 = ListNode(2)\n",
    "node_3 = ListNode(3)\n",
    "node_4 = ListNode(4)\n",
    "# next itmes add \n",
    "node_1.next = node_2\n",
    "node_2.next = node_3\n",
    "node_3.next = node_4\n",
    "# the first itmes head itme \n",
    "head = node_1\n",
    "def find_node(head, target) :\n",
    "    curr = head\n",
    "    while curr is not None : # None after the node_4 have'not node.next \n",
    "        if curr.value == target :\n",
    "            return f'{True} found the target in the list : ({target})'\n",
    "        else :\n",
    "            curr = curr.next\n",
    "    return f'the target : ({target}) is not found in list'     \n",
    "print(find_node(head,1)) \n",
    "print(find_node(head,6))\n",
    " "
   ]
  },
  {
   "cell_type": "markdown",
   "id": "83c2a266",
   "metadata": {},
   "source": [
    "Exercise 2: Modify a node value"
   ]
  },
  {
   "cell_type": "code",
   "execution_count": 62,
   "id": "6e546103",
   "metadata": {},
   "outputs": [
    {
     "name": "stdout",
     "output_type": "stream",
     "text": [
      "Before update:\n",
      "10\n",
      "5\n",
      "44\n",
      "16\n",
      "\n",
      "Update 10 to 3:\n",
      "3\n",
      "5\n",
      "44\n",
      "16\n",
      "\n",
      "Update 1 to 3 (not found):\n",
      "Value not found\n",
      "3\n",
      "5\n",
      "44\n",
      "16\n",
      "\n",
      "Update 16 to 17:\n",
      "3\n",
      "5\n",
      "44\n",
      "17\n"
     ]
    }
   ],
   "source": [
    "class ListNode:\n",
    "    def __init__(self, value, next=None):\n",
    "        self.value = value\n",
    "        self.next = next\n",
    "\n",
    "# إنشاء العقد\n",
    "node_1 = ListNode(10)\n",
    "node_2 = ListNode(5)\n",
    "node_3 = ListNode(44)\n",
    "node_4 = ListNode(16)\n",
    "\n",
    "# ربط العقد\n",
    "node_1.next = node_2\n",
    "node_2.next = node_3\n",
    "node_3.next = node_4\n",
    "head = node_1\n",
    "\n",
    "# دالة التحديث\n",
    "def update_node(head, old_value, new_value):\n",
    "    curr = head\n",
    "    while curr is not None:\n",
    "        if curr.value == old_value:\n",
    "            curr.value = new_value\n",
    "            return head\n",
    "        curr = curr.next\n",
    "    print('Value not found')\n",
    "    return head\n",
    "\n",
    "# طباعة القائمة\n",
    "def print_list(head):\n",
    "    curr = head\n",
    "    while curr is not None:\n",
    "        print(curr.value)\n",
    "        curr = curr.next\n",
    "\n",
    "# تجربة البرنامج\n",
    "print('Before update:')\n",
    "print_list(head)\n",
    "\n",
    "print('\\nUpdate 10 to 3:')\n",
    "head = update_node(head, 10, 3)\n",
    "print_list(head)\n",
    "\n",
    "print('\\nUpdate 1 to 3 (not found):')\n",
    "head = update_node(head, 1, 3)\n",
    "print_list(head)\n",
    "\n",
    "print('\\nUpdate 16 to 17:')\n",
    "head = update_node(head, 16, 17)\n",
    "print_list(head)\n"
   ]
  },
  {
   "cell_type": "markdown",
   "id": "68475e45",
   "metadata": {},
   "source": [
    "Exercise 3: Delete the first node containing a value"
   ]
  },
  {
   "cell_type": "code",
   "execution_count": 98,
   "id": "8342fe3c",
   "metadata": {},
   "outputs": [
    {
     "name": "stdout",
     "output_type": "stream",
     "text": [
      "befor del node 1\n",
      "1\n",
      "2\n",
      "3\n",
      "1\n",
      "Not Found target\n",
      "After del node 1\n",
      "2\n",
      "3\n"
     ]
    }
   ],
   "source": [
    "class ListNode :\n",
    "    def __init__(self , value, next = None) :\n",
    "        self.value = value \n",
    "        self.next = next\n",
    "node_1 = ListNode(1)\n",
    "node_2 = ListNode(2)\n",
    "node_3 = ListNode(3)\n",
    "node_4 = ListNode(1)\n",
    "node_1.next = node_2\n",
    "node_2.next = node_3\n",
    "node_3.next= node_4\n",
    "head = node_1 \n",
    "def print_list(head) :\n",
    "    curr = head \n",
    "    while curr is not None :\n",
    "        print(curr.value)\n",
    "        curr = curr.next\n",
    "def delete_node(head,target) :\n",
    "    if head is not None and head.value == target :\n",
    "        head =head.next\n",
    "    prev = None\n",
    "    curr = head\n",
    "    while curr is not None :\n",
    "        if curr.value == target :\n",
    "            prev.next = curr.next\n",
    "        else :\n",
    "            prev = curr\n",
    "        curr = curr.next\n",
    "        \n",
    "        \n",
    "       \n",
    "    print('Not Found target') \n",
    "    return head   \n",
    "\n",
    "print('befor del node 1')\n",
    "print_list(head)\n",
    "head = delete_node(head,1)\n",
    "print('After del node 1')\n",
    "\n",
    "print_list(head)\n"
   ]
  },
  {
   "cell_type": "markdown",
   "id": "7b390c45",
   "metadata": {},
   "source": [
    "Exercise 4: Delete all nodes containing a value"
   ]
  },
  {
   "cell_type": "code",
   "execution_count": null,
   "id": "85d0aaf0",
   "metadata": {},
   "outputs": [],
   "source": [
    "\n",
    "\n"
   ]
  },
  {
   "cell_type": "markdown",
   "id": "bb069de3",
   "metadata": {},
   "source": [
    "doubly-linded-list"
   ]
  },
  {
   "cell_type": "code",
   "execution_count": null,
   "id": "1ad90e84",
   "metadata": {},
   "outputs": [],
   "source": []
  },
  {
   "cell_type": "markdown",
   "id": "62b9803a",
   "metadata": {},
   "source": [
    "Circular linked list"
   ]
  },
  {
   "cell_type": "code",
   "execution_count": null,
   "id": "d7a39426",
   "metadata": {},
   "outputs": [],
   "source": []
  },
  {
   "cell_type": "code",
   "execution_count": null,
   "id": "4ba94321",
   "metadata": {},
   "outputs": [],
   "source": []
  }
 ],
 "metadata": {
  "kernelspec": {
   "display_name": "arab",
   "language": "python",
   "name": "python3"
  },
  "language_info": {
   "codemirror_mode": {
    "name": "ipython",
    "version": 3
   },
   "file_extension": ".py",
   "mimetype": "text/x-python",
   "name": "python",
   "nbconvert_exporter": "python",
   "pygments_lexer": "ipython3",
   "version": "3.12.9"
  }
 },
 "nbformat": 4,
 "nbformat_minor": 5
}
