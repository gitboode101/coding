{
 "cells": [
  {
   "cell_type": "code",
   "execution_count": 29,
   "id": "78a637d3",
   "metadata": {},
   "outputs": [
    {
     "name": "stdout",
     "output_type": "stream",
     "text": [
      "9\n"
     ]
    }
   ],
   "source": [
    "num_list = [1,2,1,2,3]\n",
    "count = 0\n",
    "for num in range(len(num_list)) :\n",
    "    count +=num_list[num]\n",
    "print(count)    "
   ]
  },
  {
   "cell_type": "code",
   "execution_count": 33,
   "id": "3433301c",
   "metadata": {},
   "outputs": [
    {
     "name": "stdout",
     "output_type": "stream",
     "text": [
      "[(1, 2), (1, 2), (2, 1), (2, 1), (1, 2), (1, 2), (2, 1), (2, 1)]\n",
      "[(1, 1), (1, 1), (1, 3), (2, 2), (2, 2), (2, 3), (1, 1), (1, 1), (1, 3), (2, 2), (2, 2), (2, 3), (3, 1), (3, 2), (3, 1), (3, 2), (3, 3)]\n"
     ]
    }
   ],
   "source": [
    "result = 0\n",
    "listed = []\n",
    "out = []\n",
    "for num in range(len(num_list)) :\n",
    "    for num_pinery in range(len(num_list)) :\n",
    "        result = num_list[num]+num_list[num_pinery]\n",
    "        if result == 3 :\n",
    "            listed.append((num_list[num],num_list[num_pinery]))\n",
    "        else :\n",
    "            out.append((num_list[num],num_list[num_pinery]))\n",
    "\n",
    "           \n",
    "print(listed)            \n",
    "print(out)\n"
   ]
  },
  {
   "cell_type": "code",
   "execution_count": 34,
   "id": "07456971",
   "metadata": {},
   "outputs": [
    {
     "name": "stdout",
     "output_type": "stream",
     "text": [
      "1 2 3 \n",
      "4 5 6 \n"
     ]
    }
   ],
   "source": [
    "listed = [[1,2,3],[4,5,6]]\n",
    "for i in range(len(listed)) :\n",
    "    for j in range(len(listed[0])) :\n",
    "        print(listed[i][j],end =\" \") \n",
    "    print('')\n",
    "        "
   ]
  },
  {
   "cell_type": "code",
   "execution_count": null,
   "id": "45776c1d",
   "metadata": {},
   "outputs": [],
   "source": []
  }
 ],
 "metadata": {
  "kernelspec": {
   "display_name": "arab",
   "language": "python",
   "name": "python3"
  },
  "language_info": {
   "codemirror_mode": {
    "name": "ipython",
    "version": 3
   },
   "file_extension": ".py",
   "mimetype": "text/x-python",
   "name": "python",
   "nbconvert_exporter": "python",
   "pygments_lexer": "ipython3",
   "version": "3.12.9"
  }
 },
 "nbformat": 4,
 "nbformat_minor": 5
}
