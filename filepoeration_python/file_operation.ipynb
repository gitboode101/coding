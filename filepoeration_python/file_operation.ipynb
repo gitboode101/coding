{
 "cells": [
  {
   "cell_type": "markdown",
   "id": "30d3b37d",
   "metadata": {},
   "source": [
    "handling files"
   ]
  },
  {
   "cell_type": "code",
   "execution_count": null,
   "id": "3c989348",
   "metadata": {},
   "outputs": [],
   "source": [
    "\n",
    "from pathlib import Path"
   ]
  },
  {
   "cell_type": "code",
   "execution_count": 11,
   "id": "482bbf45",
   "metadata": {},
   "outputs": [
    {
     "name": "stdout",
     "output_type": "stream",
     "text": [
      "1\n",
      " \n",
      "2\n",
      " \n",
      "3\n",
      " \n",
      "4\n",
      "1,2,3,4\n"
     ]
    }
   ],
   "source": [
    "## read \n",
    "file_path = Path(\"text_file.txt\")\n",
    "with open(file_path ,'r') as f :\n",
    "    rader = f.read()\n",
    "    for i in rader :\n",
    "        print(i.strip().replace(\",\",\" \"))\n",
    "    print(rader)\n"
   ]
  },
  {
   "cell_type": "code",
   "execution_count": 19,
   "id": "0fa09149",
   "metadata": {},
   "outputs": [
    {
     "name": "stdout",
     "output_type": "stream",
     "text": [
      "abdullah\n",
      "ABDULLAH\n",
      "Ali\n",
      "ALI\n",
      "mazuen\n",
      "MAZUEN\n",
      "\n"
     ]
    }
   ],
   "source": [
    "List_name= [\"abdullah\",\"Ali\",\"mazuen\"]\n",
    "\n",
    "with open(\"file_name.txt\" ,'w') as f1 :\n",
    "    for name in List_name :\n",
    "        \n",
    "        f1.write(f'{name}\\n')\n",
    "        f1.writelines(f'{name.upper()}\\n')\n",
    "with open(\"file_name.txt\",'r') as fr :\n",
    "        reader = fr.read()\n",
    "        print(reader)      \n"
   ]
  },
  {
   "cell_type": "markdown",
   "id": "69d41630",
   "metadata": {},
   "source": [
    "Read a text file and count the number of lines ,word and characters."
   ]
  },
  {
   "cell_type": "code",
   "execution_count": 35,
   "id": "052bd5b1",
   "metadata": {},
   "outputs": [
    {
     "name": "stdout",
     "output_type": "stream",
     "text": [
      "['A text file sometimes spelled textfile; an old alternative name is flat file is a kind of computer file that is structured as a sequence of lines of electronic text. A text file exists stored as data within a computer file system.\\n', '\\n', 'In operating systems such as CP/M, where the operating system does not keep track of the file size in bytes, the end of a text file is denoted by placing one or more special characters, known as an end-of-file EOF marker, as padding after the last line in a text file. In modern operating systems such as DOS, Microsoft Windows and Unix-like systems, text files do not contain any special EOF character, because file systems on those operating systems keep track of the file size in bytes.\\n', '\\n', 'Some operating systems, such as Multics, Unix-like systems, CP/M, DOS, the classic Mac OS, and Windows, store text files as a sequence of bytes, with an end-of-line delimiter at the end of each line. Other operating systems, such as OpenVMS and OS/360 and its successors, have record-oriented filesystems, in which text files are stored as a sequence either of fixed-length records or of variable-length records with a record-length value in the record header.\\n', '\\n', 'Text file refers to a type of container, while plain text refers to a type of content.\\n', '\\n', 'At a generic level of description, there are two kinds of computer files: text files and binary files.[1]'],\n",
      "9 ,\n",
      "237 , \n",
      "1378\n"
     ]
    }
   ],
   "source": [
    "def count_text_file(file_path) :\n",
    "    with open(file_path ,'r')  as file :\n",
    "        lines = file.readlines()\n",
    "        line_count = len(lines)\n",
    "        word_count = sum(len(line.split()) for line in lines)\n",
    "        char_count = sum(len(line) for line in lines)\n",
    "    return lines,line_count , word_count,char_count\n",
    "file_path = Path('read_files_txt.txt') \n",
    "lines,lines_count, words ,char = count_text_file(file_path)\n",
    "print(f'{lines},\\n{lines_count} ,\\n{words} , \\n{char}')   "
   ]
  },
  {
   "cell_type": "code",
   "execution_count": null,
   "id": "ae6d7f26",
   "metadata": {},
   "outputs": [],
   "source": [
    "# make dir \n",
    "import os \n",
    "new_directory = \"package\"\n",
    "os.mkdir(new_directory)\n"
   ]
  },
  {
   "cell_type": "code",
   "execution_count": null,
   "id": "46847c90",
   "metadata": {},
   "outputs": [
    {
     "name": "stdout",
     "output_type": "stream",
     "text": [
      "['file_name.txt', 'file_operation.ipynb', 'read_files_txt.txt', 'text_file.txt']\n",
      "['package']\n"
     ]
    }
   ],
   "source": [
    "## listing files and directories\n",
    "all_items = os.listdir('.')\n",
    "\n",
    "# files items in folder main \n",
    "files = [ file for file in all_items if os.path.isfile(file)]\n",
    "\n",
    "# fodlers in main folder \n",
    "folders = [folder for folder in all_items if os.path.isdir(folder)]\n",
    "print(files)\n",
    "\n",
    "print(folders)\n"
   ]
  },
  {
   "cell_type": "code",
   "execution_count": 73,
   "id": "58ceaf23",
   "metadata": {},
   "outputs": [
    {
     "name": "stdout",
     "output_type": "stream",
     "text": [
      "files : ['file_name.txt', 'file_operation.ipynb', 'read_files_txt.txt', 'text_file.txt']\n",
      " floders : ['package']\n"
     ]
    }
   ],
   "source": [
    "## fucn \n",
    "\n",
    "def folder_files(all_items):\n",
    "    dir_file = {\n",
    "        \"files\": [f for f in all_items if os.path.isfile(f)],\n",
    "        \"folders\": [f for f in all_items if os.path.isdir(f)]\n",
    "    }\n",
    "    return dir_file\n",
    "result = folder_files(os.listdir('.'))\n",
    "print(f'files : {result['files']}\\n',f'floders : {result['folders']}')\n"
   ]
  },
  {
   "cell_type": "code",
   "execution_count": 78,
   "id": "c1d07bae",
   "metadata": {},
   "outputs": [
    {
     "name": "stdout",
     "output_type": "stream",
     "text": [
      "package\\read_files_txt.txt\n",
      "A text file sometimes spelled textfile; an old alternative name is flat file is a kind of computer file that is structured as a sequence of lines of electronic text. A text file exists stored as data within a computer file system.\n",
      "\n",
      "In operating systems such as CP/M, where the operating system does not keep track of the file size in bytes, the end of a text file is denoted by placing one or more special characters, known as an end-of-file EOF marker, as padding after the last line in a text file. In modern operating systems such as DOS, Microsoft Windows and Unix-like systems, text files do not contain any special EOF character, because file systems on those operating systems keep track of the file size in bytes.\n",
      "\n",
      "Some operating systems, such as Multics, Unix-like systems, CP/M, DOS, the classic Mac OS, and Windows, store text files as a sequence of bytes, with an end-of-line delimiter at the end of each line. Other operating systems, such as OpenVMS and OS/360 and its successors, have record-oriented filesystems, in which text files are stored as a sequence either of fixed-length records or of variable-length records with a record-length value in the record header.\n",
      "\n",
      "Text file refers to a type of container, while plain text refers to a type of content.\n",
      "\n",
      "At a generic level of description, there are two kinds of computer files: text files and binary files.[1]\n"
     ]
    }
   ],
   "source": [
    "file_path = os.path.join(r'package\\read_files_txt.txt')\n",
    "print(file_path)\n",
    "with open(file_path ,'r') as f :\n",
    "    reader = f.read()\n",
    "    print(reader)"
   ]
  },
  {
   "cell_type": "code",
   "execution_count": 77,
   "id": "1186a871",
   "metadata": {},
   "outputs": [
    {
     "name": "stdout",
     "output_type": "stream",
     "text": [
      "c:\\Users\\a-ara\\Desktop\\github\\python Recursion\\coding\\filepoeration_python\\package\\read_files_txt.txt\n",
      "A text file sometimes spelled textfile; an old alternative name is flat file is a kind of computer file that is structured as a sequence of lines of electronic text. A text file exists stored as data within a computer file system.\n",
      "\n",
      "In operating systems such as CP/M, where the operating system does not keep track of the file size in bytes, the end of a text file is denoted by placing one or more special characters, known as an end-of-file EOF marker, as padding after the last line in a text file. In modern operating systems such as DOS, Microsoft Windows and Unix-like systems, text files do not contain any special EOF character, because file systems on those operating systems keep track of the file size in bytes.\n",
      "\n",
      "Some operating systems, such as Multics, Unix-like systems, CP/M, DOS, the classic Mac OS, and Windows, store text files as a sequence of bytes, with an end-of-line delimiter at the end of each line. Other operating systems, such as OpenVMS and OS/360 and its successors, have record-oriented filesystems, in which text files are stored as a sequence either of fixed-length records or of variable-length records with a record-length value in the record header.\n",
      "\n",
      "Text file refers to a type of container, while plain text refers to a type of content.\n",
      "\n",
      "At a generic level of description, there are two kinds of computer files: text files and binary files.[1]\n"
     ]
    }
   ],
   "source": [
    "## joining Paths \n",
    "file_path = os.path.join(os.getcwd(),r'package\\read_files_txt.txt')\n",
    "print(file_path)\n",
    "with open(file_path ,'r') as f :\n",
    "    reader = f.read()\n",
    "    print(reader)"
   ]
  },
  {
   "cell_type": "code",
   "execution_count": 86,
   "id": "255176cf",
   "metadata": {},
   "outputs": [
    {
     "name": "stdout",
     "output_type": "stream",
     "text": [
      "the path package\\read_files_txt.txt is exists\n",
      "_________\n",
      "the path exampel.txt does't exists\n",
      "\n"
     ]
    }
   ],
   "source": [
    "#check up \n",
    "list_paths = [file_path,\"exampel.txt\"]\n",
    "for pa in list_paths :\n",
    "    if os.path.exists(pa) :\n",
    "        print(f'the path {pa} is exists')\n",
    "    else : \n",
    "        print(f\"_________\\nthe path {pa} does't exists\\n\")    \n"
   ]
  },
  {
   "cell_type": "code",
   "execution_count": 87,
   "id": "aaf7d9b5",
   "metadata": {},
   "outputs": [
    {
     "name": "stdout",
     "output_type": "stream",
     "text": [
      "c:\\Users\\a-ara\\Desktop\\github\\python Recursion\\coding\\filepoeration_python\\package\\read_files_txt.txt\n"
     ]
    }
   ],
   "source": [
    "## getting the absolute path \n",
    "relative_path =list_paths[0]\n",
    "absolute_path = os.path.abspath(relative_path)\n",
    "print(absolute_path)"
   ]
  },
  {
   "cell_type": "code",
   "execution_count": 93,
   "id": "c02129db",
   "metadata": {},
   "outputs": [
    {
     "data": {
      "text/plain": [
       "'package'"
      ]
     },
     "execution_count": 93,
     "metadata": {},
     "output_type": "execute_result"
    }
   ],
   "source": [
    "## absolut main__file__ or chdirname or dirname \n",
    "os.path.dirname(list_paths[0])\n"
   ]
  },
  {
   "cell_type": "code",
   "execution_count": null,
   "id": "5a01b068",
   "metadata": {},
   "outputs": [],
   "source": []
  }
 ],
 "metadata": {
  "kernelspec": {
   "display_name": "arab",
   "language": "python",
   "name": "python3"
  },
  "language_info": {
   "codemirror_mode": {
    "name": "ipython",
    "version": 3
   },
   "file_extension": ".py",
   "mimetype": "text/x-python",
   "name": "python",
   "nbconvert_exporter": "python",
   "pygments_lexer": "ipython3",
   "version": "3.12.9"
  }
 },
 "nbformat": 4,
 "nbformat_minor": 5
}
