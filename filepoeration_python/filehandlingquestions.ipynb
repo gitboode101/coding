{
 "cells": [
  {
   "cell_type": "markdown",
   "metadata": {},
   "source": [
    "# Module: File Handling Assignments\n",
    "## Lesson: File Handling and Operations\n",
    "\n",
    "\n",
    "\n",
    "\n",
    "\n",
    "### Assignment 3: Copying a File\n",
    "\n",
    "Write a function that copies the contents of a file named `source.txt` to a new file named `destination.txt`.\n",
    "\n",
    "### Assignment 4: Appending to a File\n",
    "\n",
    "Write a function that appends a given string to the end of a file named `log.txt`.\n",
    "\n",
    "### Assignment 5: Counting Words in a File\n",
    "\n",
    "Write a function that reads the contents of a file named `document.txt` and returns the number of words in the file.\n",
    "\n",
    "### Assignment 6: Finding and Replacing Text\n",
    "\n",
    "Write a function that finds and replaces all occurrences of a given word in a file named `data.txt` with another word.\n",
    "\n",
    "### Assignment 7: Reading a File in Reverse\n",
    "\n",
    "Write a function that reads the contents of a file named `reverse.txt` and prints each line in reverse order.\n",
    "\n",
    "### Assignment 8: Counting Lines, Words, and Characters\n",
    "\n",
    "Write a function that reads the contents of a file named `stats.txt` and returns the number of lines, words, and characters in the file.\n",
    "\n",
    "### Assignment 9: Merging Multiple Files\n",
    "\n",
    "Write a function that merges the contents of multiple files into a single file named `merged.txt`.\n",
    "\n",
    "### Assignment 10: Splitting a Large File\n",
    "\n",
    "Write a function that splits a large file named `large.txt` into smaller files of 100 lines each.\n",
    "\n",
    "### Assignment 11: Creating a Log File\n",
    "\n",
    "Write a function that creates a log file named `activity.log` and writes log messages with timestamps.\n",
    "\n",
    "### Assignment 12: Binary File Operations\n",
    "\n",
    "Write a function that reads a binary file named `image.bin` and writes its contents to another binary file named `copy_image.bin`.\n",
    "\n",
    "### Assignment 13: CSV File Operations\n",
    "\n",
    "Write a function that reads a CSV file named `data.csv` and prints its contents as a list of dictionaries.\n",
    "\n",
    "### Assignment 14: JSON File Operations\n",
    "\n",
    "Write a function that reads a JSON file named `data.json` and prints its contents as a Python dictionary.\n",
    "\n",
    "### Assignment 15: File Permission Handling\n",
    "\n",
    "Write a function that attempts to read a file named `protected.txt` and handles any permission errors gracefully by printing an error message."
   ]
  },
  {
   "cell_type": "markdown",
   "id": "3501828a",
   "metadata": {},
   "source": [
    "### Assignment 1: Reading a File\n",
    "Write a function that reads the contents of a file named `sample.txt` and prints each line."
   ]
  },
  {
   "cell_type": "code",
   "execution_count": null,
   "id": "8d0a3050",
   "metadata": {},
   "outputs": [],
   "source": [
    "# 1 makdir for files  \n",
    "folder = \"files_folder\"\n",
    "import os \n",
    "os.makedirs(folder,exist_ok = True)"
   ]
  },
  {
   "cell_type": "code",
   "execution_count": 11,
   "id": "16f9dda4",
   "metadata": {},
   "outputs": [
    {
     "name": "stdout",
     "output_type": "stream",
     "text": [
      "hi my name is Abdullah\n",
      "this is the first txet fils\n",
      "\n"
     ]
    }
   ],
   "source": [
    "# write files make new file \n",
    "path_file = os.path.join(os.getcwd(),folder,'sample.txt')\n",
    "def file_new_make(path_file) :\n",
    "    if not os.path.exists(path_file) :\n",
    "        return f'the file {path_file} is exists'\n",
    "    else :\n",
    "        with open(path_file,'w') as file :\n",
    "            file.write('hi my name is Abdullah\\n')\n",
    "            file.write('this is the first txet fils\\n')\n",
    "    return path_file\n",
    " \n",
    "     \n",
    "# read file \n",
    "def read_files(files_read) :\n",
    "    if os.path.isfile(files_read) :\n",
    "        with open(files_read,'r') as f :\n",
    "            reader = f.read()\n",
    "        return reader\n",
    "    else :\n",
    "        return 'file does not exist'\n",
    "file=file_new_make(path_file)      \n",
    "content =read_files((file))\n",
    "print(content)      "
   ]
  },
  {
   "cell_type": "markdown",
   "id": "7d1235e4",
   "metadata": {},
   "source": [
    "### Assignment 2: Writing to a File\n",
    "\n",
    "Write a function that writes a list of strings to a file named `output.txt`, with each string on a new line."
   ]
  },
  {
   "cell_type": "code",
   "execution_count": 27,
   "id": "78860ad5",
   "metadata": {},
   "outputs": [
    {
     "name": "stdout",
     "output_type": "stream",
     "text": [
      "['The teacher plays the garden.', 'The student eats a pen.', 'The student watches a painting.', 'The doctor runs a movie.', 'The cat writes a painting.', 'The doctor watches the ball.', 'The doctor reads the garden.', 'The student reads a painting.', 'The girl runs the ball.', 'The boy sleeps a pen.', 'The boy runs the ball.', 'The dog sleeps the ball.', 'The boy watches a painting.', 'The dog eats some food.', 'The teacher writes the ball.', 'The boy watches the garden.', 'The doctor plays the garden.', 'The teacher reads the garden.', 'The girl watches some food.', 'The cat writes the ball.']\n",
      "The girl plays the ball.\n",
      "The cat watches a pen.\n",
      "The teacher writes the ball.\n",
      "The teacher plays a movie.\n",
      "The girl reads a pen.\n",
      "The student reads the ball.\n",
      "The boy runs some food.\n",
      "The doctor reads the ball.\n",
      "The doctor watches a book.\n",
      "The teacher eats a movie.\n",
      "The doctor watches a book.\n",
      "The dog eats a book.\n",
      "The dog plays a painting.\n",
      "The cat plays some food.\n",
      "The cat eats the garden.\n",
      "The girl reads the garden.\n",
      "The doctor reads a book.\n",
      "The boy sleeps some food.\n",
      "The girl reads a painting.\n",
      "The girl runs a book.\n",
      "\n"
     ]
    }
   ],
   "source": [
    "# random line sentences\n",
    "import random \n",
    "subjects = [\"The boy\", \"The girl\", \"The teacher\", \"The doctor\", \"The student\", \"The cat\", \"The dog\"]\n",
    "verbs = [\"reads\", \"writes\", \"plays\", \"sleeps\", \"runs\", \"eats\", \"watches\"]\n",
    "objects = [\"a book\", \"a pen\", \"the ball\", \"some food\", \"a movie\", \"the garden\", \"a painting\"]\n",
    "def random_sentences(su_list,ver_list,ob_list) :\n",
    "    sentences = []\n",
    "    for _ in range(20) :\n",
    "        su = random.choice(su_list)\n",
    "        ver = random.choice(ver_list)\n",
    "        ob = random.choice(ob_list)\n",
    "        sentence_str = f\"{su} {ver} {ob}.\"\n",
    "        sentences.append(sentence_str)\n",
    "    return sentences\n",
    "list_sentences=random_sentences(subjects,verbs,objects)\n",
    "print(list_sentences)\n",
    "def writes_output(file,lst) :\n",
    "    if not os.path.exists(file) :\n",
    "        with open(file ,'w') as f:\n",
    "            for sent in lst :\n",
    "                f.write(f'{sent}\\n')\n",
    "    else :\n",
    "        return 'file is exist'\n",
    "writes_output(file=os.path.join(os.getcwd(),'files_folder','output.txt'),lst=list_sentences) \n",
    "print(read_files(os.path.join(os.getcwd(),'files_folder','output.txt')))\n",
    "\n",
    "\n"
   ]
  },
  {
   "cell_type": "markdown",
   "id": "1bc6c317",
   "metadata": {},
   "source": [
    "### Assignment 3: Copying a File\n",
    "\n",
    "Write a function that copies the contents of a file named `source.txt` to a new file named `destination.txt`."
   ]
  },
  {
   "cell_type": "code",
   "execution_count": null,
   "id": "3b37c799",
   "metadata": {},
   "outputs": [],
   "source": []
  }
 ],
 "metadata": {
  "kernelspec": {
   "display_name": "arab",
   "language": "python",
   "name": "python3"
  },
  "language_info": {
   "codemirror_mode": {
    "name": "ipython",
    "version": 3
   },
   "file_extension": ".py",
   "mimetype": "text/x-python",
   "name": "python",
   "nbconvert_exporter": "python",
   "pygments_lexer": "ipython3",
   "version": "3.12.9"
  }
 },
 "nbformat": 4,
 "nbformat_minor": 5
}
