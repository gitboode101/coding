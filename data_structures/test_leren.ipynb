{
 "cells": [
  {
   "cell_type": "code",
   "execution_count": 19,
   "id": "27096190",
   "metadata": {},
   "outputs": [
    {
     "name": "stdout",
     "output_type": "stream",
     "text": [
      "10\n",
      "20\n",
      "30\n",
      "40\n"
     ]
    }
   ],
   "source": [
    "class ListNode :\n",
    "    def __init__(self ,value) :\n",
    "        self.value = value \n",
    "        self.next = None\n",
    "def Print_node(head) :\n",
    "    curr = head \n",
    "    while curr is not None :\n",
    "        print(curr.value)\n",
    "        curr = curr.next\n",
    "node_1 = ListNode(10)\n",
    "node_2 = ListNode(20)\n",
    "node_3 = ListNode(30)\n",
    "node_4 = ListNode(40)\n",
    "node_1.next = node_2\n",
    "node_2.next = node_3\n",
    "node_3.next = node_4\n",
    "head = node_1\n",
    "Print_node(head)                "
   ]
  },
  {
   "cell_type": "code",
   "execution_count": 20,
   "id": "ea0cca0b",
   "metadata": {},
   "outputs": [
    {
     "name": "stdout",
     "output_type": "stream",
     "text": [
      "10\n",
      "20\n",
      "30\n",
      "40\n",
      "50\n"
     ]
    }
   ],
   "source": [
    "def append_node(head,itmes):\n",
    "    new_node = ListNode(itmes)\n",
    "    if head is None :\n",
    "        return new_node\n",
    "    curr = head\n",
    "    \n",
    "    while curr.next is not None :\n",
    "        curr = curr.next\n",
    "    curr.next=new_node\n",
    "append_node(head,50)\n",
    "Print_node(head)"
   ]
  },
  {
   "cell_type": "code",
   "execution_count": null,
   "id": "c971bab4",
   "metadata": {},
   "outputs": [],
   "source": [
    "class Node  : \n",
    "    def __init__(self ,value) :\n",
    "        self.value = value \n",
    "        self.next = None \n",
    "\n",
    "def list_loop_print(head)   :\n",
    "    curr = head \n",
    "    while curr is not None :\n",
    "        print(curr.value)\n",
    "        curr = curr.next \n",
    "\n",
    "def add_items(head ,value) :\n",
    "    new_add = Node(value)\n",
    "    if head is None :\n",
    "        return new_add\n",
    "    curr = head \n",
    "    while curr.next is not None :\n",
    "        curr = curr.next\n",
    "    curr.next = new_add\n",
    "    return head \n",
    "\n",
    "\n",
    "def delete_items(head,target) :\n",
    "    curr = head \n",
    "    prev = None \n",
    "    while curr is not None :\n",
    "        if curr.value == target :\n",
    "            if prev is None :\n",
    "                return curr.next\n",
    "            else :\n",
    "                prev.next = curr.next\n",
    "            return head \n",
    "        prev = curr\n",
    "        curr = curr.next\n",
    "\n",
    "    print('not Found')    \n",
    "    return head\n",
    "\n",
    "\n",
    "def find_target(head,target) :\n",
    "    curr = head \n",
    "    count = 0\n",
    "    while curr is not None :\n",
    "        if curr.value == target :\n",
    "            return f'found {target} index target {count}'\n",
    "        count +=1\n",
    "        curr = curr.next\n",
    "    return 'not found'\n",
    "def add_new_head(head,value) :\n",
    "    new_head = Node(value)\n",
    "    new_head.next =head\n",
    "    return new_head\n",
    "    \n",
    "\n",
    "        \n",
    "\n",
    "\n",
    "         \n"
   ]
  },
  {
   "cell_type": "code",
   "execution_count": null,
   "id": "c4578723",
   "metadata": {},
   "outputs": [],
   "source": [
    "class Node :\n",
    "    def __init__(self ,value):\n",
    "        self.value = value\n",
    "        self.next = None\n",
    "        \n",
    "         "
   ]
  }
 ],
 "metadata": {
  "kernelspec": {
   "display_name": "arab",
   "language": "python",
   "name": "python3"
  },
  "language_info": {
   "codemirror_mode": {
    "name": "ipython",
    "version": 3
   },
   "file_extension": ".py",
   "mimetype": "text/x-python",
   "name": "python",
   "nbconvert_exporter": "python",
   "pygments_lexer": "ipython3",
   "version": "3.12.9"
  }
 },
 "nbformat": 4,
 "nbformat_minor": 5
}
