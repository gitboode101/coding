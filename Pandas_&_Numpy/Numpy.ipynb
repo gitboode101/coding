{
 "cells": [
  {
   "cell_type": "code",
   "execution_count": 1,
   "id": "872a1e31",
   "metadata": {},
   "outputs": [],
   "source": [
    "import numpy as np "
   ]
  },
  {
   "cell_type": "markdown",
   "id": "d22b188a",
   "metadata": {},
   "source": [
    "# create array using numpy \n",
    "## create a D1 array "
   ]
  },
  {
   "cell_type": "code",
   "execution_count": null,
   "id": "4bb13494",
   "metadata": {},
   "outputs": [
    {
     "name": "stdout",
     "output_type": "stream",
     "text": [
      "[1 2 3 4]\n",
      "<class 'numpy.ndarray'>\n",
      "(4,)\n"
     ]
    }
   ],
   "source": [
    "arr1 = np.array([1,2,3,4,5])\n",
    "print(arr1)\n",
    "\n",
    "print(type(arr1))\n",
    "print(arr1.shape)"
   ]
  },
  {
   "cell_type": "code",
   "execution_count": null,
   "id": "b036cfad",
   "metadata": {},
   "outputs": [
    {
     "data": {
      "text/plain": [
       "array([[1, 2, 3, 4, 5]])"
      ]
     },
     "execution_count": 7,
     "metadata": {},
     "output_type": "execute_result"
    }
   ],
   "source": [
    "arr2 = np.array([1,2,3,4,5])\n",
    "arr2.reshape((1,5)) # 1 row and 5 columns "
   ]
  },
  {
   "cell_type": "code",
   "execution_count": 8,
   "id": "2d6f56fc",
   "metadata": {},
   "outputs": [
    {
     "data": {
      "text/plain": [
       "(1, 5)"
      ]
     },
     "execution_count": 8,
     "metadata": {},
     "output_type": "execute_result"
    }
   ],
   "source": [
    "arr2 = np.array([[1,2,3,4,5]])\n",
    "arr2.shape"
   ]
  },
  {
   "cell_type": "code",
   "execution_count": null,
   "id": "aff006aa",
   "metadata": {},
   "outputs": [
    {
     "name": "stdout",
     "output_type": "stream",
     "text": [
      "[[ 1  2  3  4  5]\n",
      " [ 6  7  8  9 10]]\n"
     ]
    },
    {
     "data": {
      "text/plain": [
       "(2, 5)"
      ]
     },
     "execution_count": 12,
     "metadata": {},
     "output_type": "execute_result"
    }
   ],
   "source": [
    "# 2D array \n",
    "arr2 = np.array([[1,2,3,4,5],[6,7,8,9,10]])  # 2 rows # 5 columns \n",
    "print(arr2)\n",
    "arr2.shape"
   ]
  },
  {
   "cell_type": "code",
   "execution_count": 22,
   "id": "8693d761",
   "metadata": {},
   "outputs": [
    {
     "name": "stdout",
     "output_type": "stream",
     "text": [
      "(5, 1)\n",
      "[[0]\n",
      " [2]\n",
      " [4]\n",
      " [6]\n",
      " [8]]\n"
     ]
    }
   ],
   "source": [
    "P = np.arange(0,10,2).reshape(5,1) # 5 rows 1 columns \n",
    "print(P.shape)\n",
    "print(P)"
   ]
  },
  {
   "cell_type": "code",
   "execution_count": 29,
   "id": "ab2897c0",
   "metadata": {},
   "outputs": [
    {
     "data": {
      "text/plain": [
       "array([[1., 1., 1., 1.],\n",
       "       [1., 1., 1., 1.],\n",
       "       [1., 1., 1., 1.]])"
      ]
     },
     "execution_count": 29,
     "metadata": {},
     "output_type": "execute_result"
    }
   ],
   "source": [
    "np.ones((3,4))\n"
   ]
  },
  {
   "cell_type": "code",
   "execution_count": 30,
   "id": "c58d1c49",
   "metadata": {},
   "outputs": [
    {
     "data": {
      "text/plain": [
       "array([[1., 0., 0.],\n",
       "       [0., 1., 0.],\n",
       "       [0., 0., 1.]])"
      ]
     },
     "execution_count": 30,
     "metadata": {},
     "output_type": "execute_result"
    }
   ],
   "source": [
    "# identity matrix \n",
    "np.eye(3)"
   ]
  },
  {
   "cell_type": "code",
   "execution_count": null,
   "id": "3b412792",
   "metadata": {},
   "outputs": [
    {
     "name": "stdout",
     "output_type": "stream",
     "text": [
      "Array :\n",
      " [[1 2 3]\n",
      " [4 5 6]]\n",
      "Shape : (2, 3)\n",
      "Number of dimensions: 2\n",
      "Size (number of elmernts) : 6\n",
      "DAtae type: int64\n",
      "item size(in bytes): 8\n"
     ]
    }
   ],
   "source": [
    "# \n",
    "arr3 = np.array([[1,2,3],[4,5,6]])\n",
    "print(\"Array :\\n\" ,arr3  )\n",
    "print(\"Shape :\", arr3.shape) #output : 2 \"(2,3) 2rows 3 columns \"\n",
    "print(\"Number of dimensions:\" ,arr3.ndim) # output \"2\" 2D array \n",
    "print(\"Size (number of elmernts) :\", arr3.size) #out put 6 \n",
    "\n",
    "print(\"DAtae type:\" ,arr3.dtype) # output :int64 (may vary based on platform)\n",
    "print(\"item size(in bytes):\",arr3.itemsize) # out put: 8 (may vary bassed on )"
   ]
  },
  {
   "cell_type": "code",
   "execution_count": 37,
   "id": "38eca16a",
   "metadata": {},
   "outputs": [
    {
     "name": "stdout",
     "output_type": "stream",
     "text": [
      "Addtion : [11 22 33 44 55]\n",
      "Sub : [ -9 -18 -27 -36 -45]\n",
      "mult: [ 10  40  90 160 250]\n"
     ]
    }
   ],
   "source": [
    "#Numpy Vectorized opration \n",
    "\n",
    "arr = np.array([1,2,3,4,5])\n",
    "arr2 = np.array([10,20,30,40,50])\n",
    "\n",
    "# Elemnet Wise addtion \n",
    "print(\"Addtion :\",arr+arr2)\n",
    "# Elemnet Wise Substractoin \n",
    "print(\"Sub :\", arr-arr2)\n",
    "# mult Wise mult \n",
    "print(\"mult:\",arr*arr2)"
   ]
  },
  {
   "cell_type": "code",
   "execution_count": 42,
   "id": "c2c59bca",
   "metadata": {},
   "outputs": [
    {
     "name": "stdout",
     "output_type": "stream",
     "text": [
      "[1.         1.41421356 1.73205081 2.         2.23606798 2.44948974]\n",
      "[  2.71828183   7.3890561   20.08553692  54.59815003 148.4131591\n",
      " 403.42879349]\n",
      "[ 0.84147098  0.90929743  0.14112001 -0.7568025  -0.95892427 -0.2794155 ]\n",
      "[0.         0.69314718 1.09861229 1.38629436 1.60943791 1.79175947]\n"
     ]
    }
   ],
   "source": [
    "## Universal Function \n",
    "arr = np.array([1,2,3,4,5,6])\n",
    "## Squear root \n",
    "print(np.sqrt(arr))\n",
    "# Exponential\n",
    "print(np.exp(arr))\n",
    "## sine \n",
    "print(np.sin(arr))\n",
    "## \n",
    "print(np.log(arr))"
   ]
  },
  {
   "cell_type": "code",
   "execution_count": 44,
   "id": "64eea9e5",
   "metadata": {},
   "outputs": [
    {
     "name": "stdout",
     "output_type": "stream",
     "text": [
      "[[ 1  2  3  4]\n",
      " [ 5  6  7  8]\n",
      " [ 9 10 11 12]]\n"
     ]
    },
    {
     "data": {
      "text/plain": [
       "np.int64(1)"
      ]
     },
     "execution_count": 44,
     "metadata": {},
     "output_type": "execute_result"
    }
   ],
   "source": [
    "## array slicing and indexing\n",
    "# \n",
    "\n",
    "arr = np.array([[1,2,3,4],[5,6,7,8],[9,10,11,12]])\n",
    "print(arr)  \n",
    "arr[0][0]"
   ]
  },
  {
   "cell_type": "code",
   "execution_count": 47,
   "id": "927533ed",
   "metadata": {},
   "outputs": [
    {
     "name": "stdout",
     "output_type": "stream",
     "text": [
      "[-1.34164079 -0.4472136   0.4472136   1.34164079]\n"
     ]
    }
   ],
   "source": [
    "### statistical concepts -- Normalization \n",
    "## too have a mean of 0 and standar deviation of 1\n",
    "data = np.array([1,2,3,4])\n",
    "mean = np.mean(data)\n",
    "\n",
    "std_div = np.std(data)\n",
    "normalized_data = (data-mean) / std_div\n",
    "print(normalized_data)"
   ]
  },
  {
   "cell_type": "code",
   "execution_count": 50,
   "id": "2ad8e2cc",
   "metadata": {},
   "outputs": [
    {
     "name": "stdout",
     "output_type": "stream",
     "text": [
      "mean : 5.5\n",
      "median : 5.5\n",
      "stdander Deviation : 2.8722813232690143\n",
      "variance : 1.6666666666666667\n"
     ]
    }
   ],
   "source": [
    "data1 = np.array([1,2,3,4,5,6,7,8,9,10])\n",
    "mean = np.mean(data1)\n",
    "\n",
    "medin = np.median(data1)\n",
    "\n",
    "std_dev = np.std(data1)\n",
    "variance = np.var(data,ddof =1)\n",
    "\n",
    "print(\"mean :\" ,mean)\n",
    "\n",
    "print(\"median :\" ,medin)\n",
    "\n",
    "print(\"stdander Deviation :\" ,std_dev)\n",
    "\n",
    "print(\"variance :\", variance)\n"
   ]
  },
  {
   "cell_type": "code",
   "execution_count": 53,
   "id": "70e8a073",
   "metadata": {},
   "outputs": [
    {
     "name": "stdout",
     "output_type": "stream",
     "text": [
      "[False False False False False  True  True  True  True  True]\n",
      "[ 6  7  8  9 10]\n",
      "[5 6 7 8]\n"
     ]
    }
   ],
   "source": [
    "# Logical operation \n",
    "data = np.array([1,2,3,4,5,6,7,8,9,10])\n",
    "print(data>5)\n",
    "print(data[data>5])\n",
    "print(data[(data >=5) & (data<=8)])\n"
   ]
  },
  {
   "cell_type": "code",
   "execution_count": null,
   "id": "c1556b74",
   "metadata": {},
   "outputs": [],
   "source": []
  }
 ],
 "metadata": {
  "kernelspec": {
   "display_name": "arab",
   "language": "python",
   "name": "python3"
  },
  "language_info": {
   "codemirror_mode": {
    "name": "ipython",
    "version": 3
   },
   "file_extension": ".py",
   "mimetype": "text/x-python",
   "name": "python",
   "nbconvert_exporter": "python",
   "pygments_lexer": "ipython3",
   "version": "3.12.9"
  }
 },
 "nbformat": 4,
 "nbformat_minor": 5
}
