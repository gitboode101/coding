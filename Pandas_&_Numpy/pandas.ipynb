{
 "cells": [
  {
   "cell_type": "code",
   "execution_count": 9,
   "id": "c0354dac",
   "metadata": {},
   "outputs": [
    {
     "name": "stdout",
     "output_type": "stream",
     "text": [
      "0    1\n",
      "1    2\n",
      "2    3\n",
      "3    4\n",
      "dtype: int64\n"
     ]
    }
   ],
   "source": [
    "import pandas as pd \n",
    "\n",
    "data = pd.Series([1,2,3,4]) # array \n",
    "print(data)"
   ]
  },
  {
   "cell_type": "code",
   "execution_count": 8,
   "id": "9ebd8272",
   "metadata": {},
   "outputs": [
    {
     "name": "stdout",
     "output_type": "stream",
     "text": [
      "<class 'numpy.ndarray'>\n"
     ]
    },
    {
     "data": {
      "text/plain": [
       "array([1, 2, 3, 4])"
      ]
     },
     "execution_count": 8,
     "metadata": {},
     "output_type": "execute_result"
    }
   ],
   "source": [
    "print(type(data.values)) # to numpy array \n",
    "arr = data.values\n",
    "arr"
   ]
  },
  {
   "cell_type": "code",
   "execution_count": 11,
   "id": "a1dbaa02",
   "metadata": {},
   "outputs": [
    {
     "name": "stdout",
     "output_type": "stream",
     "text": [
      "1\n"
     ]
    }
   ],
   "source": [
    "# indexing \n",
    "print(data[0])"
   ]
  },
  {
   "cell_type": "code",
   "execution_count": 17,
   "id": "049c5b7d",
   "metadata": {},
   "outputs": [
    {
     "data": {
      "text/plain": [
       "number 1      appel\n",
       "number 2      banan\n",
       "number 3     tomate\n",
       "number 4      anans\n",
       "number 5    Nothins\n",
       "dtype: object"
      ]
     },
     "execution_count": 17,
     "metadata": {},
     "output_type": "execute_result"
    }
   ],
   "source": [
    "# custom indexing \n",
    "\n",
    "data1 = pd.Series([\"appel\",\"banan\",\"tomate\",\"anans\",\"Nothins\"] , index = [\"number 1\",\"number 2\" ,\"number 3\" ,\"number 4\" ,\"number 5\"] ) # index\n",
    "data1"
   ]
  },
  {
   "cell_type": "code",
   "execution_count": null,
   "id": "89c7380d",
   "metadata": {},
   "outputs": [
    {
     "name": "stdout",
     "output_type": "stream",
     "text": [
      "appel\n",
      "appel\n",
      "appel\n"
     ]
    },
    {
     "name": "stderr",
     "output_type": "stream",
     "text": [
      "C:\\Users\\a-ara\\AppData\\Local\\Temp\\ipykernel_4380\\1000344601.py:2: FutureWarning: Series.__getitem__ treating keys as positions is deprecated. In a future version, integer keys will always be treated as labels (consistent with DataFrame behavior). To access a value by position, use `ser.iloc[pos]`\n",
      "  print(data1[0])\n"
     ]
    }
   ],
   "source": [
    "print(data1['number 1'])\n",
    "print(data1[0])\n",
    "print(data1.iloc[0]) # index numirc fun iloc"
   ]
  },
  {
   "cell_type": "code",
   "execution_count": 28,
   "id": "b395b320",
   "metadata": {},
   "outputs": [
    {
     "data": {
      "text/plain": [
       "california       213123\n",
       "texas          43532543\n",
       "New York      112655452\n",
       "florida          798966\n",
       "illionis        6636644\n",
       "dtype: int64"
      ]
     },
     "execution_count": 28,
     "metadata": {},
     "output_type": "execute_result"
    }
   ],
   "source": [
    "# A Series from python dictinory \n",
    "\n",
    "X = {'california':213123 ,\n",
    "     'texas':43532543,\n",
    "     'New York': 112655452,\n",
    "     'florida': 798966,\n",
    "    'illionis' : 6636644,}\n",
    "df =pd.Series(X)  # key dict = index  , paramiter value dict \n",
    "df "
   ]
  },
  {
   "cell_type": "code",
   "execution_count": 39,
   "id": "cb3d1ea9",
   "metadata": {},
   "outputs": [
    {
     "name": "stdout",
     "output_type": "stream",
     "text": [
      "texas        43532543\n",
      "New York    112655452\n",
      "florida        798966\n",
      "dtype: int64\n",
      "--------------------------\n",
      "texas        43532543\n",
      "New York    112655452\n",
      "florida        798966\n",
      "dtype: int64\n"
     ]
    }
   ],
   "source": [
    "print(df['texas':'florida']) # sliceing indexing  from texas to florida \n",
    "print('--------------------------')\n",
    "print(df[1:4]) #"
   ]
  },
  {
   "cell_type": "code",
   "execution_count": 54,
   "id": "58b3c865",
   "metadata": {},
   "outputs": [
    {
     "name": "stdout",
     "output_type": "stream",
     "text": [
      "age pd.Series\n",
      " abdulla    22\n",
      "amar       32\n",
      "mazen      19\n",
      "dtype: int64\n",
      "--------------------------------------------------\n",
      "toll pd.Series\n",
      " abdulla    180\n",
      "amar       170\n",
      "mazen      182\n",
      "dtype: int64\n",
      "--------------------------------------------------\n"
     ]
    },
    {
     "data": {
      "text/html": [
       "<div>\n",
       "<style scoped>\n",
       "    .dataframe tbody tr th:only-of-type {\n",
       "        vertical-align: middle;\n",
       "    }\n",
       "\n",
       "    .dataframe tbody tr th {\n",
       "        vertical-align: top;\n",
       "    }\n",
       "\n",
       "    .dataframe thead th {\n",
       "        text-align: right;\n",
       "    }\n",
       "</style>\n",
       "<table border=\"1\" class=\"dataframe\">\n",
       "  <thead>\n",
       "    <tr style=\"text-align: right;\">\n",
       "      <th></th>\n",
       "      <th>age</th>\n",
       "      <th>toll</th>\n",
       "    </tr>\n",
       "  </thead>\n",
       "  <tbody>\n",
       "    <tr>\n",
       "      <th>abdulla</th>\n",
       "      <td>22</td>\n",
       "      <td>180</td>\n",
       "    </tr>\n",
       "    <tr>\n",
       "      <th>amar</th>\n",
       "      <td>32</td>\n",
       "      <td>170</td>\n",
       "    </tr>\n",
       "    <tr>\n",
       "      <th>mazen</th>\n",
       "      <td>19</td>\n",
       "      <td>182</td>\n",
       "    </tr>\n",
       "  </tbody>\n",
       "</table>\n",
       "</div>"
      ],
      "text/plain": [
       "         age  toll\n",
       "abdulla   22   180\n",
       "amar      32   170\n",
       "mazen     19   182"
      ]
     },
     "execution_count": 54,
     "metadata": {},
     "output_type": "execute_result"
    }
   ],
   "source": [
    "#DataFrame from pandas Series \n",
    "\n",
    "name_age = {'abdulla':22,'amar' :32 ,'mazen':19}\n",
    "name_toll=  {'abdulla':180,'amar' :170 ,'mazen':182}\n",
    "age = pd.Series(name_age)\n",
    "print('age pd.Series\\n',age)\n",
    "print('-'*50)\n",
    "\n",
    "toll = pd.Series(name_toll)\n",
    "print('toll pd.Series\\n',toll)\n",
    "print('-'*50)\n",
    "data_frame = pd.DataFrame({'age':age,'toll':toll})\n",
    "data_frame"
   ]
  },
  {
   "cell_type": "code",
   "execution_count": null,
   "id": "03e23f82",
   "metadata": {},
   "outputs": [
    {
     "data": {
      "text/html": [
       "<div>\n",
       "<style scoped>\n",
       "    .dataframe tbody tr th:only-of-type {\n",
       "        vertical-align: middle;\n",
       "    }\n",
       "\n",
       "    .dataframe tbody tr th {\n",
       "        vertical-align: top;\n",
       "    }\n",
       "\n",
       "    .dataframe thead th {\n",
       "        text-align: right;\n",
       "    }\n",
       "</style>\n",
       "<table border=\"1\" class=\"dataframe\">\n",
       "  <thead>\n",
       "    <tr style=\"text-align: right;\">\n",
       "      <th></th>\n",
       "      <th>populatoin</th>\n",
       "      <th>area</th>\n",
       "    </tr>\n",
       "  </thead>\n",
       "  <tbody>\n",
       "    <tr>\n",
       "      <th>california</th>\n",
       "      <td>213123</td>\n",
       "      <td>230</td>\n",
       "    </tr>\n",
       "    <tr>\n",
       "      <th>texas</th>\n",
       "      <td>43532543</td>\n",
       "      <td>240</td>\n",
       "    </tr>\n",
       "    <tr>\n",
       "      <th>New York</th>\n",
       "      <td>112655452</td>\n",
       "      <td>250</td>\n",
       "    </tr>\n",
       "    <tr>\n",
       "      <th>florida</th>\n",
       "      <td>798966</td>\n",
       "      <td>260</td>\n",
       "    </tr>\n",
       "    <tr>\n",
       "      <th>illionis</th>\n",
       "      <td>6636644</td>\n",
       "      <td>260</td>\n",
       "    </tr>\n",
       "  </tbody>\n",
       "</table>\n",
       "</div>"
      ],
      "text/plain": [
       "            populatoin  area\n",
       "california      213123   230\n",
       "texas         43532543   240\n",
       "New York     112655452   250\n",
       "florida         798966   260\n",
       "illionis       6636644   260"
      ]
     },
     "execution_count": 45,
     "metadata": {},
     "output_type": "execute_result"
    }
   ],
   "source": [
    "# DataFrame\n",
    "populatoin = {'california':213123 ,\n",
    "     'texas':43532543,\n",
    "     'New York': 112655452,\n",
    "     'florida': 798966,\n",
    "    'illionis' : 6636644,}\n",
    "area ={'california':230 ,\n",
    "     'texas':240,\n",
    "     'New York': 250,\n",
    "     'florida': 260,\n",
    "    'illionis' : 260,}\n",
    "data_fram = pd.DataFrame({'populatoin':populatoin,'area':area})\n",
    "data_fram"
   ]
  },
  {
   "cell_type": "code",
   "execution_count": 80,
   "id": "67665787",
   "metadata": {},
   "outputs": [],
   "source": [
    "#DataFrame \n",
    "data1 =pd.DataFrame({'age':[22,32,24],'tol':[180,170,181]},index =['abdullah','mazen','feras'])"
   ]
  },
  {
   "cell_type": "code",
   "execution_count": 81,
   "id": "b21fc03b",
   "metadata": {},
   "outputs": [
    {
     "data": {
      "text/html": [
       "<div>\n",
       "<style scoped>\n",
       "    .dataframe tbody tr th:only-of-type {\n",
       "        vertical-align: middle;\n",
       "    }\n",
       "\n",
       "    .dataframe tbody tr th {\n",
       "        vertical-align: top;\n",
       "    }\n",
       "\n",
       "    .dataframe thead th {\n",
       "        text-align: right;\n",
       "    }\n",
       "</style>\n",
       "<table border=\"1\" class=\"dataframe\">\n",
       "  <thead>\n",
       "    <tr style=\"text-align: right;\">\n",
       "      <th></th>\n",
       "      <th>age</th>\n",
       "      <th>tol</th>\n",
       "    </tr>\n",
       "  </thead>\n",
       "  <tbody>\n",
       "    <tr>\n",
       "      <th>abdullah</th>\n",
       "      <td>22</td>\n",
       "      <td>180</td>\n",
       "    </tr>\n",
       "    <tr>\n",
       "      <th>mazen</th>\n",
       "      <td>32</td>\n",
       "      <td>170</td>\n",
       "    </tr>\n",
       "    <tr>\n",
       "      <th>feras</th>\n",
       "      <td>24</td>\n",
       "      <td>181</td>\n",
       "    </tr>\n",
       "  </tbody>\n",
       "</table>\n",
       "</div>"
      ],
      "text/plain": [
       "          age  tol\n",
       "abdullah   22  180\n",
       "mazen      32  170\n",
       "feras      24  181"
      ]
     },
     "execution_count": 81,
     "metadata": {},
     "output_type": "execute_result"
    }
   ],
   "source": [
    "data1"
   ]
  },
  {
   "cell_type": "code",
   "execution_count": 82,
   "id": "e5cfb11d",
   "metadata": {},
   "outputs": [
    {
     "data": {
      "text/plain": [
       "Index(['abdullah', 'mazen', 'feras'], dtype='object')"
      ]
     },
     "execution_count": 82,
     "metadata": {},
     "output_type": "execute_result"
    }
   ],
   "source": [
    "data1.index # call index "
   ]
  },
  {
   "cell_type": "code",
   "execution_count": 83,
   "id": "63d51e88",
   "metadata": {},
   "outputs": [
    {
     "data": {
      "text/plain": [
       "Index(['age', 'tol'], dtype='object')"
      ]
     },
     "execution_count": 83,
     "metadata": {},
     "output_type": "execute_result"
    }
   ],
   "source": [
    "data1.columns # call columns "
   ]
  },
  {
   "cell_type": "code",
   "execution_count": 86,
   "id": "55bf31f9",
   "metadata": {},
   "outputs": [
    {
     "data": {
      "text/plain": [
       "np.int64(180)"
      ]
     },
     "execution_count": 86,
     "metadata": {},
     "output_type": "execute_result"
    }
   ],
   "source": [
    "data1['tol']['abdullah']"
   ]
  },
  {
   "cell_type": "code",
   "execution_count": 91,
   "id": "782d24e0",
   "metadata": {},
   "outputs": [
    {
     "name": "stdout",
     "output_type": "stream",
     "text": [
      "         age\n",
      "abdulla   22\n",
      "amar      32\n",
      "mazen     19\n",
      "----------------------------------------\n",
      "         age\n",
      "abdulla   22\n",
      "amar      32\n",
      "mazen     19\n"
     ]
    }
   ],
   "source": [
    "#from singel series object \n",
    "print(pd.DataFrame(age,columns =['age']))\n",
    "print('-'*40)\n",
    "# or \n",
    "f=pd.DataFrame({'age':age})\n",
    "print(f.head())"
   ]
  },
  {
   "cell_type": "code",
   "execution_count": 95,
   "id": "f4b32af4",
   "metadata": {},
   "outputs": [
    {
     "data": {
      "text/html": [
       "<div>\n",
       "<style scoped>\n",
       "    .dataframe tbody tr th:only-of-type {\n",
       "        vertical-align: middle;\n",
       "    }\n",
       "\n",
       "    .dataframe tbody tr th {\n",
       "        vertical-align: top;\n",
       "    }\n",
       "\n",
       "    .dataframe thead th {\n",
       "        text-align: right;\n",
       "    }\n",
       "</style>\n",
       "<table border=\"1\" class=\"dataframe\">\n",
       "  <thead>\n",
       "    <tr style=\"text-align: right;\">\n",
       "      <th></th>\n",
       "      <th>a</th>\n",
       "      <th>b</th>\n",
       "    </tr>\n",
       "  </thead>\n",
       "  <tbody>\n",
       "    <tr>\n",
       "      <th>one</th>\n",
       "      <td>0</td>\n",
       "      <td>0</td>\n",
       "    </tr>\n",
       "    <tr>\n",
       "      <th>tow</th>\n",
       "      <td>1</td>\n",
       "      <td>2</td>\n",
       "    </tr>\n",
       "    <tr>\n",
       "      <th>theerd</th>\n",
       "      <td>2</td>\n",
       "      <td>4</td>\n",
       "    </tr>\n",
       "  </tbody>\n",
       "</table>\n",
       "</div>"
      ],
      "text/plain": [
       "        a  b\n",
       "one     0  0\n",
       "tow     1  2\n",
       "theerd  2  4"
      ]
     },
     "execution_count": 95,
     "metadata": {},
     "output_type": "execute_result"
    }
   ],
   "source": [
    "# from a list of dictoinaries \n",
    "\n",
    "data_list = [{'a':0,'b':0},{'a':1,'b':2},{'a':2,'b':4}]\n",
    "\n",
    "pd.DataFrame(data_list,index = ['one','tow','theerd'])"
   ]
  },
  {
   "cell_type": "code",
   "execution_count": 100,
   "id": "33eda313",
   "metadata": {},
   "outputs": [
    {
     "data": {
      "text/html": [
       "<div>\n",
       "<style scoped>\n",
       "    .dataframe tbody tr th:only-of-type {\n",
       "        vertical-align: middle;\n",
       "    }\n",
       "\n",
       "    .dataframe tbody tr th {\n",
       "        vertical-align: top;\n",
       "    }\n",
       "\n",
       "    .dataframe thead th {\n",
       "        text-align: right;\n",
       "    }\n",
       "</style>\n",
       "<table border=\"1\" class=\"dataframe\">\n",
       "  <thead>\n",
       "    <tr style=\"text-align: right;\">\n",
       "      <th></th>\n",
       "      <th>first array</th>\n",
       "      <th>second array</th>\n",
       "      <th>theerd array</th>\n",
       "    </tr>\n",
       "  </thead>\n",
       "  <tbody>\n",
       "    <tr>\n",
       "      <th>0</th>\n",
       "      <td>11</td>\n",
       "      <td>16</td>\n",
       "      <td>13</td>\n",
       "    </tr>\n",
       "    <tr>\n",
       "      <th>1</th>\n",
       "      <td>10</td>\n",
       "      <td>10</td>\n",
       "      <td>12</td>\n",
       "    </tr>\n",
       "    <tr>\n",
       "      <th>2</th>\n",
       "      <td>8</td>\n",
       "      <td>1</td>\n",
       "      <td>17</td>\n",
       "    </tr>\n",
       "    <tr>\n",
       "      <th>3</th>\n",
       "      <td>3</td>\n",
       "      <td>1</td>\n",
       "      <td>10</td>\n",
       "    </tr>\n",
       "    <tr>\n",
       "      <th>4</th>\n",
       "      <td>4</td>\n",
       "      <td>16</td>\n",
       "      <td>2</td>\n",
       "    </tr>\n",
       "    <tr>\n",
       "      <th>5</th>\n",
       "      <td>14</td>\n",
       "      <td>4</td>\n",
       "      <td>14</td>\n",
       "    </tr>\n",
       "    <tr>\n",
       "      <th>6</th>\n",
       "      <td>9</td>\n",
       "      <td>13</td>\n",
       "      <td>14</td>\n",
       "    </tr>\n",
       "    <tr>\n",
       "      <th>7</th>\n",
       "      <td>14</td>\n",
       "      <td>14</td>\n",
       "      <td>18</td>\n",
       "    </tr>\n",
       "    <tr>\n",
       "      <th>8</th>\n",
       "      <td>11</td>\n",
       "      <td>18</td>\n",
       "      <td>11</td>\n",
       "    </tr>\n",
       "    <tr>\n",
       "      <th>9</th>\n",
       "      <td>11</td>\n",
       "      <td>10</td>\n",
       "      <td>18</td>\n",
       "    </tr>\n",
       "  </tbody>\n",
       "</table>\n",
       "</div>"
      ],
      "text/plain": [
       "   first array  second array   theerd array \n",
       "0           11            16              13\n",
       "1           10            10              12\n",
       "2            8             1              17\n",
       "3            3             1              10\n",
       "4            4            16               2\n",
       "5           14             4              14\n",
       "6            9            13              14\n",
       "7           14            14              18\n",
       "8           11            18              11\n",
       "9           11            10              18"
      ]
     },
     "execution_count": 100,
     "metadata": {},
     "output_type": "execute_result"
    }
   ],
   "source": [
    "# rando array\n",
    "import numpy as np \n",
    "\n",
    "data_array = np.random.randint(1,20,30).reshape(10,3) \n",
    "pd.DataFrame(data_array,columns = ['first array' ,'second array' ,' theerd array '])"
   ]
  },
  {
   "cell_type": "code",
   "execution_count": null,
   "id": "710d9fe9",
   "metadata": {},
   "outputs": [],
   "source": []
  }
 ],
 "metadata": {
  "kernelspec": {
   "display_name": "arab",
   "language": "python",
   "name": "python3"
  },
  "language_info": {
   "codemirror_mode": {
    "name": "ipython",
    "version": 3
   },
   "file_extension": ".py",
   "mimetype": "text/x-python",
   "name": "python",
   "nbconvert_exporter": "python",
   "pygments_lexer": "ipython3",
   "version": "3.12.9"
  }
 },
 "nbformat": 4,
 "nbformat_minor": 5
}
